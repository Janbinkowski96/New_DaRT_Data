{
 "cells": [
  {
   "cell_type": "code",
   "execution_count": 160,
   "metadata": {
    "ExecuteTime": {
     "end_time": "2020-05-29T19:04:58.539611Z",
     "start_time": "2020-05-29T19:04:58.531575Z"
    }
   },
   "outputs": [],
   "source": [
    "from sklearn.model_selection import train_test_split\n",
    "from sklearn.linear_model import LogisticRegression\n",
    "from sklearn.ensemble import RandomForestClassifier\n",
    "from sklearn.metrics import classification_report\n",
    "from xgboost import XGBClassifier\n",
    "import matplotlib.pyplot as plt\n",
    "import pandas as pd\n",
    "import numpy as np"
   ]
  },
  {
   "cell_type": "code",
   "execution_count": 161,
   "metadata": {
    "ExecuteTime": {
     "end_time": "2020-05-29T19:04:59.215554Z",
     "start_time": "2020-05-29T19:04:59.159168Z"
    }
   },
   "outputs": [],
   "source": [
    "wax_data_selected = pd.read_excel(\"../data/processed/wax_selected_1.xls\", index_col=0)\n",
    "X = wax_data_selected.drop(\"wax\", axis=1)\n",
    "y = wax_data_selected[\"wax\"]"
   ]
  },
  {
   "cell_type": "code",
   "execution_count": 162,
   "metadata": {
    "ExecuteTime": {
     "end_time": "2020-05-29T19:04:59.714444Z",
     "start_time": "2020-05-29T19:04:59.674695Z"
    }
   },
   "outputs": [],
   "source": [
    "wax_data_selected_2 = pd.read_excel(\"../data/processed/wax_selected_2.xls\", index_col=0)\n",
    "X2 = wax_data_selected_2.drop(\"wax_F2\", axis=1)\n",
    "y2 = wax_data_selected_2[\"wax_F2\"]"
   ]
  },
  {
   "cell_type": "code",
   "execution_count": 163,
   "metadata": {
    "ExecuteTime": {
     "end_time": "2020-05-29T19:05:00.121058Z",
     "start_time": "2020-05-29T19:05:00.116083Z"
    }
   },
   "outputs": [
    {
     "name": "stdout",
     "output_type": "stream",
     "text": [
      "(184, 38)\n",
      "(184,)\n"
     ]
    }
   ],
   "source": [
    "print(X.shape)\n",
    "print(y.shape)"
   ]
  },
  {
   "cell_type": "code",
   "execution_count": 164,
   "metadata": {
    "ExecuteTime": {
     "end_time": "2020-05-29T19:05:00.633251Z",
     "start_time": "2020-05-29T19:05:00.628119Z"
    }
   },
   "outputs": [
    {
     "name": "stdout",
     "output_type": "stream",
     "text": [
      "(184, 32)\n",
      "(184,)\n"
     ]
    }
   ],
   "source": [
    "print(X2.shape)\n",
    "print(y2.shape)"
   ]
  },
  {
   "cell_type": "code",
   "execution_count": 165,
   "metadata": {
    "ExecuteTime": {
     "end_time": "2020-05-29T19:05:01.220649Z",
     "start_time": "2020-05-29T19:05:01.200734Z"
    }
   },
   "outputs": [],
   "source": [
    "X_train, X_test, y_train, y_test = train_test_split(X, y, test_size=0.4, random_state=90)\n",
    "\n",
    "X_train_2, X_test_2, y_train_2, y_test_2 = train_test_split(X2, y2, test_size=0.4, random_state=90)"
   ]
  },
  {
   "cell_type": "code",
   "execution_count": 166,
   "metadata": {
    "ExecuteTime": {
     "end_time": "2020-05-29T19:05:01.697438Z",
     "start_time": "2020-05-29T19:05:01.694681Z"
    }
   },
   "outputs": [],
   "source": [
    "# Logstic regression"
   ]
  },
  {
   "cell_type": "code",
   "execution_count": 167,
   "metadata": {
    "ExecuteTime": {
     "end_time": "2020-05-29T19:05:02.276423Z",
     "start_time": "2020-05-29T19:05:02.266514Z"
    }
   },
   "outputs": [],
   "source": [
    "# Data set wax 1\n",
    "lr = LogisticRegression(C=5.163986277024462, penalty=\"l1\",\n",
    "                        solver=\"liblinear\", random_state=90)\n",
    "lr.fit(X_train, y_train)\n",
    "lr_predicted = lr.predict(X_test)"
   ]
  },
  {
   "cell_type": "code",
   "execution_count": 168,
   "metadata": {
    "ExecuteTime": {
     "end_time": "2020-05-29T19:05:02.770856Z",
     "start_time": "2020-05-29T19:05:02.756012Z"
    }
   },
   "outputs": [
    {
     "name": "stdout",
     "output_type": "stream",
     "text": [
      "              precision    recall  f1-score   support\n",
      "\n",
      "           0       0.85      1.00      0.92        11\n",
      "           1       1.00      0.97      0.98        63\n",
      "\n",
      "    accuracy                           0.97        74\n",
      "   macro avg       0.92      0.98      0.95        74\n",
      "weighted avg       0.98      0.97      0.97        74\n",
      "\n"
     ]
    }
   ],
   "source": [
    "print(classification_report(y_test, lr_predicted))"
   ]
  },
  {
   "cell_type": "code",
   "execution_count": 183,
   "metadata": {
    "ExecuteTime": {
     "end_time": "2020-05-29T19:06:28.293856Z",
     "start_time": "2020-05-29T19:06:28.278048Z"
    }
   },
   "outputs": [],
   "source": [
    "# Data set wax 2\n",
    "lr_2 = LogisticRegression(C=5.706675868681398, penalty=\"l1\",\n",
    "                        solver=\"liblinear\", random_state=90)\n",
    "lr_2.fit(X_train_2, y_train_2)\n",
    "\n",
    "lr_predicted_2 = lr_2.predict(X_test_2)"
   ]
  },
  {
   "cell_type": "code",
   "execution_count": 184,
   "metadata": {
    "ExecuteTime": {
     "end_time": "2020-05-29T19:06:29.019935Z",
     "start_time": "2020-05-29T19:06:29.008048Z"
    }
   },
   "outputs": [
    {
     "name": "stdout",
     "output_type": "stream",
     "text": [
      "              precision    recall  f1-score   support\n",
      "\n",
      "           0       1.00      0.91      0.95        11\n",
      "           1       0.98      1.00      0.99        63\n",
      "\n",
      "    accuracy                           0.99        74\n",
      "   macro avg       0.99      0.95      0.97        74\n",
      "weighted avg       0.99      0.99      0.99        74\n",
      "\n"
     ]
    }
   ],
   "source": [
    "print(classification_report(y_test_2, lr_predicted_2))"
   ]
  },
  {
   "cell_type": "code",
   "execution_count": 185,
   "metadata": {
    "ExecuteTime": {
     "end_time": "2020-05-29T19:06:31.046775Z",
     "start_time": "2020-05-29T19:06:31.042761Z"
    }
   },
   "outputs": [],
   "source": [
    "# Radnom forest"
   ]
  },
  {
   "cell_type": "code",
   "execution_count": 186,
   "metadata": {
    "ExecuteTime": {
     "end_time": "2020-05-29T19:06:40.317711Z",
     "start_time": "2020-05-29T19:06:40.147602Z"
    }
   },
   "outputs": [],
   "source": [
    "# Data set wax 1\n",
    "\n",
    "rf = RandomForestClassifier(n_estimators=138, random_state=90)\n",
    "rf.fit(X_train, y_train)\n",
    "rf_predicted = rf.predict(X_test)"
   ]
  },
  {
   "cell_type": "code",
   "execution_count": 187,
   "metadata": {
    "ExecuteTime": {
     "end_time": "2020-05-29T19:06:41.968532Z",
     "start_time": "2020-05-29T19:06:41.955129Z"
    }
   },
   "outputs": [
    {
     "name": "stdout",
     "output_type": "stream",
     "text": [
      "              precision    recall  f1-score   support\n",
      "\n",
      "           0       0.91      0.91      0.91        11\n",
      "           1       0.98      0.98      0.98        63\n",
      "\n",
      "    accuracy                           0.97        74\n",
      "   macro avg       0.95      0.95      0.95        74\n",
      "weighted avg       0.97      0.97      0.97        74\n",
      "\n"
     ]
    }
   ],
   "source": [
    "print(classification_report(y_test, rf_predicted))"
   ]
  },
  {
   "cell_type": "code",
   "execution_count": 188,
   "metadata": {
    "ExecuteTime": {
     "end_time": "2020-05-29T19:06:52.150695Z",
     "start_time": "2020-05-29T19:06:52.051591Z"
    }
   },
   "outputs": [],
   "source": [
    "# Data set wax 2\n",
    "\n",
    "rf_2 = RandomForestClassifier(n_estimators=62, random_state=90)\n",
    "rf_2.fit(X_train_2, y_train_2)\n",
    "rf_predicted_2 = rf_2.predict(X_test_2)"
   ]
  },
  {
   "cell_type": "code",
   "execution_count": 189,
   "metadata": {
    "ExecuteTime": {
     "end_time": "2020-05-29T19:06:53.415362Z",
     "start_time": "2020-05-29T19:06:53.403016Z"
    }
   },
   "outputs": [
    {
     "name": "stdout",
     "output_type": "stream",
     "text": [
      "              precision    recall  f1-score   support\n",
      "\n",
      "           0       0.85      1.00      0.92        11\n",
      "           1       1.00      0.97      0.98        63\n",
      "\n",
      "    accuracy                           0.97        74\n",
      "   macro avg       0.92      0.98      0.95        74\n",
      "weighted avg       0.98      0.97      0.97        74\n",
      "\n"
     ]
    }
   ],
   "source": [
    "print(classification_report(y_test_2, rf_predicted_2))"
   ]
  },
  {
   "cell_type": "code",
   "execution_count": 176,
   "metadata": {
    "ExecuteTime": {
     "end_time": "2020-05-29T19:05:13.797151Z",
     "start_time": "2020-05-29T19:05:13.790868Z"
    }
   },
   "outputs": [],
   "source": [
    "# XGBClassifier"
   ]
  },
  {
   "cell_type": "code",
   "execution_count": 190,
   "metadata": {
    "ExecuteTime": {
     "end_time": "2020-05-29T19:07:11.874335Z",
     "start_time": "2020-05-29T19:07:11.811114Z"
    }
   },
   "outputs": [],
   "source": [
    "# Data set wax 1\n",
    "\n",
    "xgb = XGBClassifier(n_estimators=155, reg_alpha=5.163986277024462, random_state=90)\n",
    "xgb.fit(X_train, y_train)\n",
    "xgb_predicted = xgb.predict(X_test)"
   ]
  },
  {
   "cell_type": "code",
   "execution_count": 191,
   "metadata": {
    "ExecuteTime": {
     "end_time": "2020-05-29T19:07:12.729670Z",
     "start_time": "2020-05-29T19:07:12.719767Z"
    }
   },
   "outputs": [
    {
     "name": "stdout",
     "output_type": "stream",
     "text": [
      "              precision    recall  f1-score   support\n",
      "\n",
      "           0       0.91      0.91      0.91        11\n",
      "           1       0.98      0.98      0.98        63\n",
      "\n",
      "    accuracy                           0.97        74\n",
      "   macro avg       0.95      0.95      0.95        74\n",
      "weighted avg       0.97      0.97      0.97        74\n",
      "\n"
     ]
    }
   ],
   "source": [
    "print(classification_report(y_test, xgb_predicted))"
   ]
  },
  {
   "cell_type": "code",
   "execution_count": 192,
   "metadata": {
    "ExecuteTime": {
     "end_time": "2020-05-29T19:07:26.820805Z",
     "start_time": "2020-05-29T19:07:26.735869Z"
    }
   },
   "outputs": [],
   "source": [
    "# Data set wax 2\n",
    "\n",
    "xgb2 = XGBClassifier(n_estimators=355, reg_alpha=5.163986277024462, random_state=90)\n",
    "xgb2.fit(X_train_2, y_train_2)\n",
    "xgb_predicted_2 = xgb2.predict(X_test_2)"
   ]
  },
  {
   "cell_type": "code",
   "execution_count": 193,
   "metadata": {
    "ExecuteTime": {
     "end_time": "2020-05-29T19:07:27.241358Z",
     "start_time": "2020-05-29T19:07:27.220601Z"
    }
   },
   "outputs": [
    {
     "name": "stdout",
     "output_type": "stream",
     "text": [
      "              precision    recall  f1-score   support\n",
      "\n",
      "           0       0.92      1.00      0.96        11\n",
      "           1       1.00      0.98      0.99        63\n",
      "\n",
      "    accuracy                           0.99        74\n",
      "   macro avg       0.96      0.99      0.97        74\n",
      "weighted avg       0.99      0.99      0.99        74\n",
      "\n"
     ]
    }
   ],
   "source": [
    "print(classification_report(y_test_2, xgb_predicted_2))"
   ]
  }
 ],
 "metadata": {
  "kernelspec": {
   "display_name": "Python 3",
   "language": "python",
   "name": "python3"
  },
  "language_info": {
   "codemirror_mode": {
    "name": "ipython",
    "version": 3
   },
   "file_extension": ".py",
   "mimetype": "text/x-python",
   "name": "python",
   "nbconvert_exporter": "python",
   "pygments_lexer": "ipython3",
   "version": "3.7.6"
  },
  "toc": {
   "base_numbering": 1,
   "nav_menu": {},
   "number_sections": true,
   "sideBar": true,
   "skip_h1_title": false,
   "title_cell": "Table of Contents",
   "title_sidebar": "Contents",
   "toc_cell": false,
   "toc_position": {},
   "toc_section_display": true,
   "toc_window_display": false
  },
  "varInspector": {
   "cols": {
    "lenName": 16,
    "lenType": 16,
    "lenVar": 40
   },
   "kernels_config": {
    "python": {
     "delete_cmd_postfix": "",
     "delete_cmd_prefix": "del ",
     "library": "var_list.py",
     "varRefreshCmd": "print(var_dic_list())"
    },
    "r": {
     "delete_cmd_postfix": ") ",
     "delete_cmd_prefix": "rm(",
     "library": "var_list.r",
     "varRefreshCmd": "cat(var_dic_list()) "
    }
   },
   "position": {
    "height": "144.444px",
    "left": "768.778px",
    "right": "20px",
    "top": "120px",
    "width": "350px"
   },
   "types_to_exclude": [
    "module",
    "function",
    "builtin_function_or_method",
    "instance",
    "_Feature"
   ],
   "window_display": false
  }
 },
 "nbformat": 4,
 "nbformat_minor": 2
}
