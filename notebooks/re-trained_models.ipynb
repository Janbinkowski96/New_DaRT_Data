{
 "cells": [
  {
   "cell_type": "code",
   "execution_count": 1,
   "metadata": {
    "ExecuteTime": {
     "end_time": "2020-07-01T19:39:30.220931Z",
     "start_time": "2020-07-01T19:39:29.070883Z"
    }
   },
   "outputs": [],
   "source": [
    "from sklearn.model_selection import train_test_split\n",
    "from sklearn.linear_model import LogisticRegression\n",
    "from sklearn.ensemble import RandomForestClassifier\n",
    "from sklearn.metrics import classification_report\n",
    "from xgboost import XGBClassifier\n",
    "import pandas as pd\n",
    "import numpy as np"
   ]
  },
  {
   "cell_type": "code",
   "execution_count": 2,
   "metadata": {
    "ExecuteTime": {
     "end_time": "2020-07-01T19:39:31.726716Z",
     "start_time": "2020-07-01T19:39:31.682347Z"
    }
   },
   "outputs": [],
   "source": [
    "wax_data_selected_A = pd.read_excel(\"../data/processed/wax_selected_A.xls\", index_col=0)\n",
    "X_A = wax_data_selected_A.drop(\"wax\", axis=1)\n",
    "y_A = wax_data_selected_A[\"wax\"]"
   ]
  },
  {
   "cell_type": "code",
   "execution_count": 3,
   "metadata": {
    "ExecuteTime": {
     "end_time": "2020-07-01T19:39:32.093615Z",
     "start_time": "2020-07-01T19:39:32.053523Z"
    }
   },
   "outputs": [],
   "source": [
    "wax_data_selected_B = pd.read_excel(\"../data/processed/wax_selected_B.xls\", index_col=0)\n",
    "X_B = wax_data_selected_B.drop(\"wax_F2\", axis=1)\n",
    "y_B = wax_data_selected_B[\"wax_F2\"]"
   ]
  },
  {
   "cell_type": "code",
   "execution_count": 4,
   "metadata": {
    "ExecuteTime": {
     "end_time": "2020-07-01T19:39:32.382978Z",
     "start_time": "2020-07-01T19:39:32.375595Z"
    }
   },
   "outputs": [
    {
     "name": "stdout",
     "output_type": "stream",
     "text": [
      "(184, 20)\n",
      "(184,)\n"
     ]
    }
   ],
   "source": [
    "print(X_A.shape)\n",
    "print(y_A.shape)"
   ]
  },
  {
   "cell_type": "code",
   "execution_count": 5,
   "metadata": {
    "ExecuteTime": {
     "end_time": "2020-07-01T19:39:32.728266Z",
     "start_time": "2020-07-01T19:39:32.722777Z"
    }
   },
   "outputs": [
    {
     "name": "stdout",
     "output_type": "stream",
     "text": [
      "(184, 35)\n",
      "(184,)\n"
     ]
    }
   ],
   "source": [
    "print(X_B.shape)\n",
    "print(y_B.shape)"
   ]
  },
  {
   "cell_type": "code",
   "execution_count": 6,
   "metadata": {
    "ExecuteTime": {
     "end_time": "2020-07-01T19:39:33.479778Z",
     "start_time": "2020-07-01T19:39:33.466726Z"
    }
   },
   "outputs": [],
   "source": [
    "X_train, X_test, y_train, y_test = train_test_split(X_A, y_A, test_size=0.4, random_state=90)\n",
    "\n",
    "X_train_2, X_test_2, y_train_2, y_test_2 = train_test_split(X_B, y_B, test_size=0.4, random_state=90)"
   ]
  },
  {
   "cell_type": "code",
   "execution_count": 7,
   "metadata": {
    "ExecuteTime": {
     "end_time": "2020-07-01T19:39:35.829605Z",
     "start_time": "2020-07-01T19:39:35.824871Z"
    }
   },
   "outputs": [],
   "source": [
    "# Logstic regression"
   ]
  },
  {
   "cell_type": "code",
   "execution_count": 8,
   "metadata": {
    "ExecuteTime": {
     "end_time": "2020-07-01T19:39:36.416637Z",
     "start_time": "2020-07-01T19:39:36.404548Z"
    }
   },
   "outputs": [],
   "source": [
    "# Data set wax A\n",
    "lr = LogisticRegression(C=0.2847422647809694, penalty=\"l1\",\n",
    "                        solver=\"liblinear\", random_state=90)\n",
    "lr.fit(X_train, y_train)\n",
    "lr_predicted = lr.predict(X_test)"
   ]
  },
  {
   "cell_type": "code",
   "execution_count": 9,
   "metadata": {
    "ExecuteTime": {
     "end_time": "2020-07-01T19:39:39.968645Z",
     "start_time": "2020-07-01T19:39:39.949600Z"
    }
   },
   "outputs": [
    {
     "name": "stdout",
     "output_type": "stream",
     "text": [
      "              precision    recall  f1-score   support\n",
      "\n",
      "         wax       1.00      0.98      0.99        63\n",
      "    wax-less       0.92      1.00      0.96        11\n",
      "\n",
      "    accuracy                           0.99        74\n",
      "   macro avg       0.96      0.99      0.97        74\n",
      "weighted avg       0.99      0.99      0.99        74\n",
      "\n"
     ]
    }
   ],
   "source": [
    "print(classification_report(y_test, lr_predicted))"
   ]
  },
  {
   "cell_type": "code",
   "execution_count": 10,
   "metadata": {
    "ExecuteTime": {
     "end_time": "2020-07-01T19:39:46.384587Z",
     "start_time": "2020-07-01T19:39:46.372898Z"
    }
   },
   "outputs": [],
   "source": [
    "# Data set wax B\n",
    "\n",
    "lr_2 = LogisticRegression(C=2.755725448969536, penalty=\"l1\",\n",
    "                        solver=\"liblinear\", random_state=90)\n",
    "lr_2.fit(X_train_2, y_train_2)\n",
    "\n",
    "lr_predicted_2 = lr_2.predict(X_test_2)"
   ]
  },
  {
   "cell_type": "code",
   "execution_count": 11,
   "metadata": {
    "ExecuteTime": {
     "end_time": "2020-07-01T19:39:47.452864Z",
     "start_time": "2020-07-01T19:39:47.437415Z"
    }
   },
   "outputs": [
    {
     "name": "stdout",
     "output_type": "stream",
     "text": [
      "              precision    recall  f1-score   support\n",
      "\n",
      "         wax       1.00      0.98      0.99        63\n",
      "    wax-less       0.92      1.00      0.96        11\n",
      "\n",
      "    accuracy                           0.99        74\n",
      "   macro avg       0.96      0.99      0.97        74\n",
      "weighted avg       0.99      0.99      0.99        74\n",
      "\n"
     ]
    }
   ],
   "source": [
    "print(classification_report(y_test_2, lr_predicted_2))"
   ]
  },
  {
   "cell_type": "code",
   "execution_count": 12,
   "metadata": {
    "ExecuteTime": {
     "end_time": "2020-07-01T19:39:49.362147Z",
     "start_time": "2020-07-01T19:39:49.359377Z"
    }
   },
   "outputs": [],
   "source": [
    "# Radnom forest"
   ]
  },
  {
   "cell_type": "code",
   "execution_count": 13,
   "metadata": {
    "ExecuteTime": {
     "end_time": "2020-07-01T19:39:49.796106Z",
     "start_time": "2020-07-01T19:39:49.635315Z"
    }
   },
   "outputs": [],
   "source": [
    "# Data set wax A\n",
    "\n",
    "rf = RandomForestClassifier(n_estimators=138, random_state=90)\n",
    "rf.fit(X_train, y_train)\n",
    "rf_predicted = rf.predict(X_test)"
   ]
  },
  {
   "cell_type": "code",
   "execution_count": 14,
   "metadata": {
    "ExecuteTime": {
     "end_time": "2020-07-01T19:39:50.278040Z",
     "start_time": "2020-07-01T19:39:50.263039Z"
    }
   },
   "outputs": [
    {
     "name": "stdout",
     "output_type": "stream",
     "text": [
      "              precision    recall  f1-score   support\n",
      "\n",
      "         wax       1.00      0.98      0.99        63\n",
      "    wax-less       0.92      1.00      0.96        11\n",
      "\n",
      "    accuracy                           0.99        74\n",
      "   macro avg       0.96      0.99      0.97        74\n",
      "weighted avg       0.99      0.99      0.99        74\n",
      "\n"
     ]
    }
   ],
   "source": [
    "print(classification_report(y_test, rf_predicted))"
   ]
  },
  {
   "cell_type": "code",
   "execution_count": 15,
   "metadata": {
    "ExecuteTime": {
     "end_time": "2020-07-01T19:39:52.260295Z",
     "start_time": "2020-07-01T19:39:52.186331Z"
    }
   },
   "outputs": [],
   "source": [
    "# Data set wax B\n",
    "\n",
    "rf_2 = RandomForestClassifier(n_estimators=69, random_state=90)\n",
    "rf_2.fit(X_train_2, y_train_2)\n",
    "rf_predicted_2 = rf_2.predict(X_test_2)"
   ]
  },
  {
   "cell_type": "code",
   "execution_count": 16,
   "metadata": {
    "ExecuteTime": {
     "end_time": "2020-07-01T19:39:52.497651Z",
     "start_time": "2020-07-01T19:39:52.480544Z"
    }
   },
   "outputs": [
    {
     "name": "stdout",
     "output_type": "stream",
     "text": [
      "              precision    recall  f1-score   support\n",
      "\n",
      "         wax       1.00      0.98      0.99        63\n",
      "    wax-less       0.92      1.00      0.96        11\n",
      "\n",
      "    accuracy                           0.99        74\n",
      "   macro avg       0.96      0.99      0.97        74\n",
      "weighted avg       0.99      0.99      0.99        74\n",
      "\n"
     ]
    }
   ],
   "source": [
    "print(classification_report(y_test_2, rf_predicted_2))"
   ]
  },
  {
   "cell_type": "code",
   "execution_count": 17,
   "metadata": {
    "ExecuteTime": {
     "end_time": "2020-07-01T19:39:54.423683Z",
     "start_time": "2020-07-01T19:39:54.418680Z"
    }
   },
   "outputs": [],
   "source": [
    "# XGBClassifier"
   ]
  },
  {
   "cell_type": "code",
   "execution_count": 18,
   "metadata": {
    "ExecuteTime": {
     "end_time": "2020-07-01T19:39:55.256154Z",
     "start_time": "2020-07-01T19:39:55.223099Z"
    }
   },
   "outputs": [],
   "source": [
    "# Data set wax A\n",
    "\n",
    "xgb = XGBClassifier(n_estimators=67, reg_alpha=5.163986277024462, random_state=90)\n",
    "xgb.fit(X_train, y_train)\n",
    "xgb_predicted = xgb.predict(X_test)"
   ]
  },
  {
   "cell_type": "code",
   "execution_count": 19,
   "metadata": {
    "ExecuteTime": {
     "end_time": "2020-07-01T19:39:55.775223Z",
     "start_time": "2020-07-01T19:39:55.759870Z"
    }
   },
   "outputs": [
    {
     "name": "stdout",
     "output_type": "stream",
     "text": [
      "              precision    recall  f1-score   support\n",
      "\n",
      "         wax       0.98      0.98      0.98        63\n",
      "    wax-less       0.91      0.91      0.91        11\n",
      "\n",
      "    accuracy                           0.97        74\n",
      "   macro avg       0.95      0.95      0.95        74\n",
      "weighted avg       0.97      0.97      0.97        74\n",
      "\n"
     ]
    }
   ],
   "source": [
    "print(classification_report(y_test, xgb_predicted))"
   ]
  },
  {
   "cell_type": "code",
   "execution_count": 20,
   "metadata": {
    "ExecuteTime": {
     "end_time": "2020-07-01T19:39:58.013743Z",
     "start_time": "2020-07-01T19:39:57.927433Z"
    }
   },
   "outputs": [],
   "source": [
    "# Data set wax B\n",
    "\n",
    "xgb2 = XGBClassifier(n_estimators=432, reg_alpha=6.852769816973126, random_state=90)\n",
    "xgb2.fit(X_train_2, y_train_2)\n",
    "xgb_predicted_2 = xgb2.predict(X_test_2)"
   ]
  },
  {
   "cell_type": "code",
   "execution_count": 21,
   "metadata": {
    "ExecuteTime": {
     "end_time": "2020-07-01T19:39:58.652383Z",
     "start_time": "2020-07-01T19:39:58.642949Z"
    }
   },
   "outputs": [
    {
     "name": "stdout",
     "output_type": "stream",
     "text": [
      "              precision    recall  f1-score   support\n",
      "\n",
      "         wax       1.00      0.98      0.99        63\n",
      "    wax-less       0.92      1.00      0.96        11\n",
      "\n",
      "    accuracy                           0.99        74\n",
      "   macro avg       0.96      0.99      0.97        74\n",
      "weighted avg       0.99      0.99      0.99        74\n",
      "\n"
     ]
    }
   ],
   "source": [
    "print(classification_report(y_test_2, xgb_predicted_2))"
   ]
  }
 ],
 "metadata": {
  "kernelspec": {
   "display_name": "Python 3",
   "language": "python",
   "name": "python3"
  },
  "language_info": {
   "codemirror_mode": {
    "name": "ipython",
    "version": 3
   },
   "file_extension": ".py",
   "mimetype": "text/x-python",
   "name": "python",
   "nbconvert_exporter": "python",
   "pygments_lexer": "ipython3",
   "version": "3.7.6"
  },
  "toc": {
   "base_numbering": 1,
   "nav_menu": {},
   "number_sections": true,
   "sideBar": true,
   "skip_h1_title": false,
   "title_cell": "Table of Contents",
   "title_sidebar": "Contents",
   "toc_cell": false,
   "toc_position": {},
   "toc_section_display": true,
   "toc_window_display": false
  },
  "varInspector": {
   "cols": {
    "lenName": 16,
    "lenType": 16,
    "lenVar": 40
   },
   "kernels_config": {
    "python": {
     "delete_cmd_postfix": "",
     "delete_cmd_prefix": "del ",
     "library": "var_list.py",
     "varRefreshCmd": "print(var_dic_list())"
    },
    "r": {
     "delete_cmd_postfix": ") ",
     "delete_cmd_prefix": "rm(",
     "library": "var_list.r",
     "varRefreshCmd": "cat(var_dic_list()) "
    }
   },
   "position": {
    "height": "144.444px",
    "left": "768.778px",
    "right": "20px",
    "top": "120px",
    "width": "350px"
   },
   "types_to_exclude": [
    "module",
    "function",
    "builtin_function_or_method",
    "instance",
    "_Feature"
   ],
   "window_display": false
  }
 },
 "nbformat": 4,
 "nbformat_minor": 2
}
