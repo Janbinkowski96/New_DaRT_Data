{
 "cells": [
  {
   "cell_type": "code",
   "execution_count": 1,
   "metadata": {
    "ExecuteTime": {
     "end_time": "2020-06-16T15:07:44.570131Z",
     "start_time": "2020-06-16T15:07:43.357271Z"
    }
   },
   "outputs": [],
   "source": [
    "from sklearn.feature_selection import SelectFromModel\n",
    "import pandas as pd\n",
    "import numpy as np\n",
    "import joblib\n",
    "import dtale"
   ]
  },
  {
   "cell_type": "code",
   "execution_count": 2,
   "metadata": {
    "ExecuteTime": {
     "end_time": "2020-06-16T15:07:44.596129Z",
     "start_time": "2020-06-16T15:07:44.592428Z"
    }
   },
   "outputs": [],
   "source": [
    "# markers names"
   ]
  },
  {
   "cell_type": "code",
   "execution_count": 3,
   "metadata": {
    "ExecuteTime": {
     "end_time": "2020-06-16T15:07:44.897318Z",
     "start_time": "2020-06-16T15:07:44.622483Z"
    }
   },
   "outputs": [],
   "source": [
    "data_wax_A = pd.read_csv(\"../data/interim/wax_data_A.csv\", index_col=0)\n",
    "markers_A = data_wax_A.drop(\"wax\", axis=1).columns\n",
    "\n",
    "data_wax_B = pd.read_csv(\"../data/interim/wax_data_B.csv\", index_col=0)\n",
    "markers_B = data_wax_B.drop(\"wax_F2\", axis=1).columns"
   ]
  },
  {
   "cell_type": "code",
   "execution_count": 4,
   "metadata": {
    "ExecuteTime": {
     "end_time": "2020-06-16T15:07:45.305663Z",
     "start_time": "2020-06-16T15:07:45.300040Z"
    }
   },
   "outputs": [],
   "source": [
    "# load pre-trained models"
   ]
  },
  {
   "cell_type": "code",
   "execution_count": 5,
   "metadata": {
    "ExecuteTime": {
     "end_time": "2020-06-16T15:07:45.701649Z",
     "start_time": "2020-06-16T15:07:45.606776Z"
    }
   },
   "outputs": [],
   "source": [
    "lr = joblib.load(\"../models/logistic_regression_wax_A\")\n",
    "rf = joblib.load(\"../models/random_forest_wax_A\")\n",
    "xgb = joblib.load(\"../models/XGBoost_wax_A\")"
   ]
  },
  {
   "cell_type": "code",
   "execution_count": 6,
   "metadata": {
    "ExecuteTime": {
     "end_time": "2020-06-16T15:07:46.026375Z",
     "start_time": "2020-06-16T15:07:45.981598Z"
    }
   },
   "outputs": [],
   "source": [
    "lr2 = joblib.load(\"../models/logistic_regression_wax_B\")\n",
    "rf2 = joblib.load(\"../models/random_forest_wax_B\")\n",
    "xgb2 = joblib.load(\"../models/XGBoost_wax_B\")"
   ]
  },
  {
   "cell_type": "code",
   "execution_count": 7,
   "metadata": {
    "ExecuteTime": {
     "end_time": "2020-06-16T15:07:46.358076Z",
     "start_time": "2020-06-16T15:07:46.355094Z"
    }
   },
   "outputs": [],
   "source": [
    "# Selection"
   ]
  },
  {
   "cell_type": "code",
   "execution_count": 8,
   "metadata": {
    "ExecuteTime": {
     "end_time": "2020-06-16T15:07:47.269574Z",
     "start_time": "2020-06-16T15:07:47.265281Z"
    }
   },
   "outputs": [],
   "source": [
    "# Dataset wax A \n",
    "lr_selector_A = SelectFromModel(lr, prefit=True, threshold=\"mean\")\n",
    "rf_selector_A = SelectFromModel(rf, prefit=True, threshold=\"mean\")\n",
    "xgbc_selector_A = SelectFromModel(xgb, prefit=True, threshold=\"mean\")"
   ]
  },
  {
   "cell_type": "code",
   "execution_count": 9,
   "metadata": {
    "ExecuteTime": {
     "end_time": "2020-06-16T15:07:47.952159Z",
     "start_time": "2020-06-16T15:07:47.946990Z"
    }
   },
   "outputs": [],
   "source": [
    "# Dataset wax_F2 B\n",
    "lr_selector_B = SelectFromModel(lr2, prefit=True, threshold=\"mean\")\n",
    "rf_selector_B = SelectFromModel(rf2, prefit=True, threshold=\"mean\")\n",
    "xgbc_selector_B = SelectFromModel(xgb2, prefit=True, threshold=\"mean\")"
   ]
  },
  {
   "cell_type": "code",
   "execution_count": 10,
   "metadata": {
    "ExecuteTime": {
     "end_time": "2020-06-16T15:09:26.662124Z",
     "start_time": "2020-06-16T15:09:26.577192Z"
    },
    "scrolled": true
   },
   "outputs": [],
   "source": [
    "# Dataset wax A\n",
    "selected_features_dict_A = {\"Markers\": markers_A,\"Logistic regression\": lr_selector_A.get_support(), \"Logistic regression coefficients\": np.mean(np.abs(lr.coef_), axis=0), \"Random forest\": rf_selector_A.get_support(), \"Random forest coefficients\": rf.feature_importances_,\n",
    "                          \"XGBoost\": xgbc_selector_A.get_support(), \"XGBoost coefficients\": xgb.feature_importances_}\n",
    "\n",
    "selected_features_A = pd.DataFrame.from_dict(selected_features_dict_A).set_index(\"Markers\", drop=True)\n",
    "\n",
    "selected_features_A[\"Points\"] = np.sum((selected_features_A[\"Logistic regression\"], selected_features_A[\"Random forest\"], selected_features_A[\"XGBoost\"]), axis=0)\n",
    "selected_features_A[\"Impact\"] = np.sum((selected_features_A[\"Logistic regression coefficients\"], selected_features_A[\"Random forest coefficients\"], selected_features_A[\"XGBoost coefficients\"]), axis=0)\n",
    "\n",
    "# Dataset wax B\n",
    "selected_features_dict_B = {\"Markers\": markers_B,\"Logistic regression\": lr_selector_B.get_support(), \"Logistic regression coefficients\": np.mean(np.abs(lr2.coef_), axis=0), \"Random forest\": rf_selector_B.get_support(), \"Random forest coefficients\": rf2.feature_importances_,\n",
    "                          \"XGBoost\": xgbc_selector_B.get_support(), \"XGBoost coefficients\": xgb2.feature_importances_}\n",
    "\n",
    "selected_features_B = pd.DataFrame.from_dict(selected_features_dict_B).set_index(\"Markers\", drop=True)\n",
    "\n",
    "selected_features_B[\"Points\"] = np.sum((selected_features_B[\"Logistic regression\"], selected_features_B[\"Random forest\"], selected_features_B[\"XGBoost\"]), axis=0)\n",
    "selected_features_B[\"Impact\"] = np.sum((selected_features_B[\"Logistic regression coefficients\"], selected_features_B[\"Random forest coefficients\"], selected_features_B[\"XGBoost coefficients\"]), axis=0)"
   ]
  },
  {
   "cell_type": "code",
   "execution_count": 11,
   "metadata": {
    "ExecuteTime": {
     "end_time": "2020-06-16T15:10:33.551119Z",
     "start_time": "2020-06-16T15:10:33.532540Z"
    }
   },
   "outputs": [],
   "source": [
    "selected_wax_A = selected_features_A[selected_features_A[\"Points\"] >= 2]\n",
    "selected_wax_A = selected_wax_A.sort_values(by=[\"Points\", \"Impact\"], ascending=False)\n",
    "\n",
    "selected_wax_B = selected_features_B[selected_features_B[\"Points\"] >= 2]\n",
    "selected_wax_B = selected_wax_B.sort_values(by=[\"Points\", \"Impact\"], ascending=False)"
   ]
  },
  {
   "cell_type": "code",
   "execution_count": 12,
   "metadata": {
    "ExecuteTime": {
     "end_time": "2020-06-16T15:10:45.349583Z",
     "start_time": "2020-06-16T15:10:45.168096Z"
    },
    "scrolled": true
   },
   "outputs": [
    {
     "data": {
      "text/html": [
       "\n",
       "        <iframe\n",
       "            width=\"100%\"\n",
       "            height=\"475\"\n",
       "            src=\"http://jan-ThinkPad-T440:40000/dtale/iframe/1\"\n",
       "            frameborder=\"0\"\n",
       "            allowfullscreen\n",
       "        ></iframe>\n",
       "        "
      ],
      "text/plain": [
       "<IPython.lib.display.IFrame at 0x7fe4d5222710>"
      ]
     },
     "metadata": {},
     "output_type": "display_data"
    },
    {
     "data": {
      "text/plain": []
     },
     "execution_count": 12,
     "metadata": {},
     "output_type": "execute_result"
    }
   ],
   "source": [
    "dtale.show(selected_wax_A)"
   ]
  },
  {
   "cell_type": "code",
   "execution_count": 13,
   "metadata": {
    "ExecuteTime": {
     "end_time": "2020-06-16T15:10:51.823037Z",
     "start_time": "2020-06-16T15:10:51.816442Z"
    }
   },
   "outputs": [
    {
     "data": {
      "text/plain": [
       "(17, 8)"
      ]
     },
     "execution_count": 13,
     "metadata": {},
     "output_type": "execute_result"
    }
   ],
   "source": [
    "selected_wax_A.shape"
   ]
  },
  {
   "cell_type": "code",
   "execution_count": 14,
   "metadata": {
    "ExecuteTime": {
     "end_time": "2020-06-16T15:11:08.117365Z",
     "start_time": "2020-06-16T15:11:08.067450Z"
    }
   },
   "outputs": [
    {
     "data": {
      "text/html": [
       "\n",
       "        <iframe\n",
       "            width=\"100%\"\n",
       "            height=\"475\"\n",
       "            src=\"http://jan-ThinkPad-T440:40000/dtale/iframe/2\"\n",
       "            frameborder=\"0\"\n",
       "            allowfullscreen\n",
       "        ></iframe>\n",
       "        "
      ],
      "text/plain": [
       "<IPython.lib.display.IFrame at 0x7fe4d5015f10>"
      ]
     },
     "metadata": {},
     "output_type": "display_data"
    },
    {
     "data": {
      "text/plain": []
     },
     "execution_count": 14,
     "metadata": {},
     "output_type": "execute_result"
    }
   ],
   "source": [
    "dtale.show(selected_wax_B)"
   ]
  },
  {
   "cell_type": "code",
   "execution_count": 15,
   "metadata": {
    "ExecuteTime": {
     "end_time": "2020-06-16T15:11:20.906472Z",
     "start_time": "2020-06-16T15:11:20.900618Z"
    }
   },
   "outputs": [
    {
     "data": {
      "text/plain": [
       "(35, 8)"
      ]
     },
     "execution_count": 15,
     "metadata": {},
     "output_type": "execute_result"
    }
   ],
   "source": [
    "selected_wax_B.shape"
   ]
  },
  {
   "cell_type": "code",
   "execution_count": 16,
   "metadata": {
    "ExecuteTime": {
     "end_time": "2020-06-16T15:11:32.848485Z",
     "start_time": "2020-06-16T15:11:32.806672Z"
    }
   },
   "outputs": [],
   "source": [
    "# Data set wax 1\n",
    "selected_wax_A.to_excel(\"../data/processed/wax_results_A.xls\")\n",
    "\n",
    "# Data set wax 2\n",
    "selected_wax_B.to_excel(\"../data/processed/wax_results_B.xls\")"
   ]
  },
  {
   "cell_type": "code",
   "execution_count": 17,
   "metadata": {
    "ExecuteTime": {
     "end_time": "2020-06-16T15:12:08.350813Z",
     "start_time": "2020-06-16T15:12:08.105562Z"
    }
   },
   "outputs": [],
   "source": [
    "# Data set wax A\n",
    "data_wax_selected_A = data_wax_A[selected_wax_A.index.tolist()+[\"wax\"]]\n",
    "data_wax_selected_A.to_excel(\"../data/processed/wax_selected_A.xls\")\n",
    "\n",
    "# Data set wax B\n",
    "data_wax_selected_B = data_wax_B[selected_wax_B.index.tolist()+[\"wax_F2\"]]\n",
    "data_wax_selected_B.to_excel(\"../data/processed/wax_selected_B.xls\")"
   ]
  },
  {
   "cell_type": "code",
   "execution_count": 18,
   "metadata": {
    "ExecuteTime": {
     "end_time": "2020-06-16T15:12:09.195929Z",
     "start_time": "2020-06-16T15:12:09.193326Z"
    }
   },
   "outputs": [],
   "source": [
    "# Merge"
   ]
  },
  {
   "cell_type": "code",
   "execution_count": 19,
   "metadata": {
    "ExecuteTime": {
     "end_time": "2020-06-16T15:26:14.418549Z",
     "start_time": "2020-06-16T15:26:14.406524Z"
    }
   },
   "outputs": [],
   "source": [
    "selected_wax_A[\"Assigment to 2R\"] = \"A\"\n",
    "selected_wax_B[\"Assigment to 2R\"] = \"B\"\n",
    "\n",
    "summary = pd.concat((selected_wax_A, selected_wax_B), axis=0)"
   ]
  },
  {
   "cell_type": "code",
   "execution_count": 20,
   "metadata": {
    "ExecuteTime": {
     "end_time": "2020-06-16T15:26:22.907248Z",
     "start_time": "2020-06-16T15:26:22.833687Z"
    }
   },
   "outputs": [
    {
     "data": {
      "text/html": [
       "\n",
       "        <iframe\n",
       "            width=\"100%\"\n",
       "            height=\"475\"\n",
       "            src=\"http://jan-ThinkPad-T440:40000/dtale/iframe/3\"\n",
       "            frameborder=\"0\"\n",
       "            allowfullscreen\n",
       "        ></iframe>\n",
       "        "
      ],
      "text/plain": [
       "<IPython.lib.display.IFrame at 0x7fe4d4d568d0>"
      ]
     },
     "metadata": {},
     "output_type": "display_data"
    },
    {
     "data": {
      "text/plain": []
     },
     "execution_count": 20,
     "metadata": {},
     "output_type": "execute_result"
    }
   ],
   "source": [
    "summary = summary.sort_values(by=[\"Points\", \"Impact\"], ascending=False)\n",
    "dtale.show(summary)"
   ]
  },
  {
   "cell_type": "code",
   "execution_count": 21,
   "metadata": {
    "ExecuteTime": {
     "end_time": "2020-06-16T15:26:57.736170Z",
     "start_time": "2020-06-16T15:26:57.718674Z"
    }
   },
   "outputs": [],
   "source": [
    "summary.to_excel(\"../data/processed/summary.xls\")"
   ]
  }
 ],
 "metadata": {
  "kernelspec": {
   "display_name": "Python 3",
   "language": "python",
   "name": "python3"
  },
  "language_info": {
   "codemirror_mode": {
    "name": "ipython",
    "version": 3
   },
   "file_extension": ".py",
   "mimetype": "text/x-python",
   "name": "python",
   "nbconvert_exporter": "python",
   "pygments_lexer": "ipython3",
   "version": "3.7.6"
  },
  "toc": {
   "base_numbering": 1,
   "nav_menu": {},
   "number_sections": true,
   "sideBar": true,
   "skip_h1_title": false,
   "title_cell": "Table of Contents",
   "title_sidebar": "Contents",
   "toc_cell": false,
   "toc_position": {},
   "toc_section_display": true,
   "toc_window_display": false
  },
  "varInspector": {
   "cols": {
    "lenName": 16,
    "lenType": 16,
    "lenVar": 40
   },
   "kernels_config": {
    "python": {
     "delete_cmd_postfix": "",
     "delete_cmd_prefix": "del ",
     "library": "var_list.py",
     "varRefreshCmd": "print(var_dic_list())"
    },
    "r": {
     "delete_cmd_postfix": ") ",
     "delete_cmd_prefix": "rm(",
     "library": "var_list.r",
     "varRefreshCmd": "cat(var_dic_list()) "
    }
   },
   "types_to_exclude": [
    "module",
    "function",
    "builtin_function_or_method",
    "instance",
    "_Feature"
   ],
   "window_display": false
  }
 },
 "nbformat": 4,
 "nbformat_minor": 2
}
