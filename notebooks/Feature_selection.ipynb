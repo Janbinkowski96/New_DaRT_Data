{
 "cells": [
  {
   "cell_type": "code",
   "execution_count": 88,
   "metadata": {},
   "outputs": [],
   "source": [
    "from sklearn.feature_selection import SelectFromModel\n",
    "import pandas as pd\n",
    "import joblib"
   ]
  },
  {
   "cell_type": "code",
   "execution_count": 89,
   "metadata": {},
   "outputs": [],
   "source": [
    "# markers names"
   ]
  },
  {
   "cell_type": "code",
   "execution_count": 90,
   "metadata": {},
   "outputs": [],
   "source": [
    "data_wax = pd.read_csv(\"../data/interim/wax_data.csv\", index_col=0)\n",
    "markers = data_wax.drop(\"wax\", axis=1).columns"
   ]
  },
  {
   "cell_type": "code",
   "execution_count": 91,
   "metadata": {},
   "outputs": [],
   "source": [
    "# load pre-trained models"
   ]
  },
  {
   "cell_type": "code",
   "execution_count": 92,
   "metadata": {},
   "outputs": [],
   "source": [
    "lr = joblib.load(\"../models/logistic_regression_wax\")\n",
    "rf = joblib.load(\"../models/random_forest_wax\")\n",
    "xgb = joblib.load(\"../models/XGBoost_wax\")"
   ]
  },
  {
   "cell_type": "code",
   "execution_count": 93,
   "metadata": {},
   "outputs": [],
   "source": [
    "# Selection"
   ]
  },
  {
   "cell_type": "code",
   "execution_count": 94,
   "metadata": {},
   "outputs": [],
   "source": [
    "lr_selector = SelectFromModel(lr, prefit=True)\n",
    "rf_selector = SelectFromModel(rf, prefit=True)\n",
    "xgbc_selector = SelectFromModel(xgb, prefit=True)"
   ]
  },
  {
   "cell_type": "code",
   "execution_count": 95,
   "metadata": {
    "scrolled": true
   },
   "outputs": [],
   "source": [
    "selected_features_dict = {\"Markers\": markers,\"Logistic regression\": lr_selector.get_support(), \"Random forest\": rf_selector.get_support(),\n",
    "                    \"XGBoost\": xgbc_selector.get_support()}\n",
    "selected_features = pd.DataFrame.from_dict(selected_features_dict).set_index(\"Markers\", drop=True)"
   ]
  },
  {
   "cell_type": "code",
   "execution_count": 96,
   "metadata": {},
   "outputs": [],
   "source": [
    "selected_features[\"Points\"] = selected_features.sum(axis=1)"
   ]
  },
  {
   "cell_type": "code",
   "execution_count": 97,
   "metadata": {},
   "outputs": [],
   "source": [
    "selected_wax = selected_features[selected_features[\"Points\"] >= 2]\n",
    "selected_wax.to_excel(\"../data/processed/wax_results.xls\")"
   ]
  },
  {
   "cell_type": "code",
   "execution_count": 98,
   "metadata": {},
   "outputs": [],
   "source": [
    "data_wax_selected = data_wax[selected_wax.index.tolist()+[\"wax\"]]"
   ]
  },
  {
   "cell_type": "code",
   "execution_count": 99,
   "metadata": {},
   "outputs": [],
   "source": [
    "data_wax_selected.to_excel(\"../data/processed/wax_selected.xls\")"
   ]
  }
 ],
 "metadata": {
  "kernelspec": {
   "display_name": "Python 3",
   "language": "python",
   "name": "python3"
  },
  "language_info": {
   "codemirror_mode": {
    "name": "ipython",
    "version": 3
   },
   "file_extension": ".py",
   "mimetype": "text/x-python",
   "name": "python",
   "nbconvert_exporter": "python",
   "pygments_lexer": "ipython3",
   "version": "3.6.9"
  }
 },
 "nbformat": 4,
 "nbformat_minor": 2
}
