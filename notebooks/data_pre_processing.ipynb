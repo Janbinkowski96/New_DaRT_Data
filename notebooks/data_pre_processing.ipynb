{
 "cells": [
  {
   "cell_type": "code",
   "execution_count": 1,
   "metadata": {
    "ExecuteTime": {
     "end_time": "2020-07-01T19:17:57.131147Z",
     "start_time": "2020-07-01T19:17:55.598348Z"
    }
   },
   "outputs": [],
   "source": [
    "import pandas as pd\n",
    "import dtale\n",
    "import numpy as np"
   ]
  },
  {
   "cell_type": "code",
   "execution_count": 3,
   "metadata": {
    "ExecuteTime": {
     "end_time": "2020-07-01T19:18:05.141358Z",
     "start_time": "2020-07-01T19:18:01.144881Z"
    }
   },
   "outputs": [],
   "source": [
    "# A - assigmed to 2R chromosome previously\n",
    "data_A = pd.read_excel(\"../data/raw/DArTseq przypisane - [A2].xlsx\", index_col=0)\n",
    "\n",
    "# B - assigned to 2R herein\n",
    "data_B = pd.read_excel(\"../data/raw/2R segregacje nieprzypisanych LOD45 [B].xlsx\", index_col=0)"
   ]
  },
  {
   "cell_type": "code",
   "execution_count": 4,
   "metadata": {
    "ExecuteTime": {
     "end_time": "2020-07-01T19:18:10.055968Z",
     "start_time": "2020-07-01T19:18:09.527066Z"
    },
    "scrolled": true
   },
   "outputs": [
    {
     "data": {
      "text/html": [
       "\n",
       "        <iframe\n",
       "            width=\"100%\"\n",
       "            height=\"475\"\n",
       "            src=\"http://jan-ThinkPad-T440:40000/dtale/iframe/1\"\n",
       "            frameborder=\"0\"\n",
       "            allowfullscreen\n",
       "        ></iframe>\n",
       "        "
      ],
      "text/plain": [
       "<IPython.lib.display.IFrame at 0x7fb0e575cc10>"
      ]
     },
     "metadata": {},
     "output_type": "display_data"
    },
    {
     "data": {
      "text/plain": []
     },
     "execution_count": 4,
     "metadata": {},
     "output_type": "execute_result"
    }
   ],
   "source": [
    "dtale.show(data_A)"
   ]
  },
  {
   "cell_type": "code",
   "execution_count": 5,
   "metadata": {
    "ExecuteTime": {
     "end_time": "2020-07-01T19:18:10.717321Z",
     "start_time": "2020-07-01T19:18:10.710225Z"
    }
   },
   "outputs": [
    {
     "data": {
      "text/plain": [
       "(1136, 184)"
      ]
     },
     "execution_count": 5,
     "metadata": {},
     "output_type": "execute_result"
    }
   ],
   "source": [
    "data_A.shape"
   ]
  },
  {
   "cell_type": "code",
   "execution_count": 6,
   "metadata": {
    "ExecuteTime": {
     "end_time": "2020-07-01T19:18:12.124521Z",
     "start_time": "2020-07-01T19:18:11.592504Z"
    },
    "scrolled": true
   },
   "outputs": [
    {
     "data": {
      "text/html": [
       "\n",
       "        <iframe\n",
       "            width=\"100%\"\n",
       "            height=\"475\"\n",
       "            src=\"http://jan-ThinkPad-T440:40000/dtale/iframe/2\"\n",
       "            frameborder=\"0\"\n",
       "            allowfullscreen\n",
       "        ></iframe>\n",
       "        "
      ],
      "text/plain": [
       "<IPython.lib.display.IFrame at 0x7fb0e1007a90>"
      ]
     },
     "metadata": {},
     "output_type": "display_data"
    },
    {
     "data": {
      "text/plain": []
     },
     "execution_count": 6,
     "metadata": {},
     "output_type": "execute_result"
    }
   ],
   "source": [
    "dtale.show(data_B)"
   ]
  },
  {
   "cell_type": "code",
   "execution_count": 7,
   "metadata": {
    "ExecuteTime": {
     "end_time": "2020-07-01T19:18:12.781410Z",
     "start_time": "2020-07-01T19:18:12.776496Z"
    }
   },
   "outputs": [
    {
     "data": {
      "text/plain": [
       "(1068, 184)"
      ]
     },
     "execution_count": 7,
     "metadata": {},
     "output_type": "execute_result"
    }
   ],
   "source": [
    "data_B.shape"
   ]
  },
  {
   "cell_type": "code",
   "execution_count": 8,
   "metadata": {
    "ExecuteTime": {
     "end_time": "2020-07-01T19:18:14.286906Z",
     "start_time": "2020-07-01T19:18:14.272216Z"
    }
   },
   "outputs": [],
   "source": [
    "feature_matrix_A = data_A.drop([\"wax\"], axis=0)\n",
    "feature_matrix_B = data_B.drop([\"wax_F2\"], axis=0)"
   ]
  },
  {
   "cell_type": "code",
   "execution_count": 9,
   "metadata": {
    "ExecuteTime": {
     "end_time": "2020-07-01T19:18:15.616867Z",
     "start_time": "2020-07-01T19:18:15.612426Z"
    }
   },
   "outputs": [],
   "source": [
    "# wax segregation\n",
    "wax_segregation_A = data_A.loc[\"wax\"]\n",
    "wax_segregation_B = data_B.loc[\"wax_F2\"]"
   ]
  },
  {
   "cell_type": "code",
   "execution_count": 10,
   "metadata": {
    "ExecuteTime": {
     "end_time": "2020-07-01T19:18:16.491082Z",
     "start_time": "2020-07-01T19:18:16.487613Z"
    }
   },
   "outputs": [],
   "source": [
    "# Feature data encoding"
   ]
  },
  {
   "cell_type": "code",
   "execution_count": 11,
   "metadata": {
    "ExecuteTime": {
     "end_time": "2020-07-01T19:18:17.007506Z",
     "start_time": "2020-07-01T19:18:17.002612Z"
    }
   },
   "outputs": [],
   "source": [
    "coder = {\"a\": 1, \"b\": 2, \"c\": 3, \"d\": 4, \"h\": 5, \"-\":0}"
   ]
  },
  {
   "cell_type": "code",
   "execution_count": 12,
   "metadata": {
    "ExecuteTime": {
     "end_time": "2020-07-01T19:18:18.903176Z",
     "start_time": "2020-07-01T19:18:18.489474Z"
    }
   },
   "outputs": [],
   "source": [
    "for column in feature_matrix_A.columns:\n",
    "    feature_matrix_A[column].replace(coder, inplace=True)"
   ]
  },
  {
   "cell_type": "code",
   "execution_count": 13,
   "metadata": {
    "ExecuteTime": {
     "end_time": "2020-07-01T19:18:20.525903Z",
     "start_time": "2020-07-01T19:18:20.128887Z"
    }
   },
   "outputs": [],
   "source": [
    "for column in feature_matrix_B.columns:\n",
    "    feature_matrix_B[column].replace(coder, inplace=True)"
   ]
  },
  {
   "cell_type": "code",
   "execution_count": 14,
   "metadata": {
    "ExecuteTime": {
     "end_time": "2020-07-01T19:18:21.102166Z",
     "start_time": "2020-07-01T19:18:21.096000Z"
    }
   },
   "outputs": [],
   "source": [
    "# Label data encoding"
   ]
  },
  {
   "cell_type": "code",
   "execution_count": 15,
   "metadata": {
    "ExecuteTime": {
     "end_time": "2020-07-01T19:18:21.619040Z",
     "start_time": "2020-07-01T19:18:21.612874Z"
    }
   },
   "outputs": [
    {
     "data": {
      "text/plain": [
       "d    146\n",
       "b     38\n",
       "Name: wax, dtype: int64"
      ]
     },
     "execution_count": 15,
     "metadata": {},
     "output_type": "execute_result"
    }
   ],
   "source": [
    "wax_segregation_A.value_counts()"
   ]
  },
  {
   "cell_type": "code",
   "execution_count": 16,
   "metadata": {
    "ExecuteTime": {
     "end_time": "2020-07-01T19:18:25.576141Z",
     "start_time": "2020-07-01T19:18:25.568983Z"
    }
   },
   "outputs": [
    {
     "data": {
      "text/plain": [
       "d    146\n",
       "b     38\n",
       "Name: wax_F2, dtype: int64"
      ]
     },
     "execution_count": 16,
     "metadata": {},
     "output_type": "execute_result"
    }
   ],
   "source": [
    "wax_segregation_B.value_counts()"
   ]
  },
  {
   "cell_type": "code",
   "execution_count": 17,
   "metadata": {
    "ExecuteTime": {
     "end_time": "2020-07-01T19:18:55.733610Z",
     "start_time": "2020-07-01T19:18:55.724813Z"
    }
   },
   "outputs": [],
   "source": [
    "wax_segregation_A = wax_segregation_A.map({\"d\": \"wax\", \"b\": \"wax-less\"}) # d - wax; b - wax-less\n",
    "wax_segregation_B = wax_segregation_B.map({\"d\": \"wax\", \"b\": \"wax-less\"})"
   ]
  },
  {
   "cell_type": "code",
   "execution_count": 18,
   "metadata": {
    "ExecuteTime": {
     "end_time": "2020-07-01T19:18:57.609498Z",
     "start_time": "2020-07-01T19:18:57.391895Z"
    }
   },
   "outputs": [],
   "source": [
    "wax_data_A = feature_matrix_A.append(wax_segregation_A).T\n",
    "wax_data_B = feature_matrix_B.append(wax_segregation_B).T"
   ]
  },
  {
   "cell_type": "code",
   "execution_count": 19,
   "metadata": {
    "ExecuteTime": {
     "end_time": "2020-07-01T19:19:02.782225Z",
     "start_time": "2020-07-01T19:18:58.638755Z"
    }
   },
   "outputs": [
    {
     "data": {
      "text/html": [
       "\n",
       "        <iframe\n",
       "            width=\"100%\"\n",
       "            height=\"475\"\n",
       "            src=\"http://jan-ThinkPad-T440:40000/dtale/iframe/3\"\n",
       "            frameborder=\"0\"\n",
       "            allowfullscreen\n",
       "        ></iframe>\n",
       "        "
      ],
      "text/plain": [
       "<IPython.lib.display.IFrame at 0x7fb0e0bf0790>"
      ]
     },
     "metadata": {},
     "output_type": "display_data"
    },
    {
     "data": {
      "text/plain": []
     },
     "execution_count": 19,
     "metadata": {},
     "output_type": "execute_result"
    }
   ],
   "source": [
    "dtale.show(wax_data_A)"
   ]
  },
  {
   "cell_type": "code",
   "execution_count": 20,
   "metadata": {
    "ExecuteTime": {
     "end_time": "2020-07-01T19:19:13.797720Z",
     "start_time": "2020-07-01T19:19:13.792983Z"
    }
   },
   "outputs": [
    {
     "data": {
      "text/plain": [
       "(184, 1136)"
      ]
     },
     "execution_count": 20,
     "metadata": {},
     "output_type": "execute_result"
    }
   ],
   "source": [
    "wax_data_A.shape"
   ]
  },
  {
   "cell_type": "code",
   "execution_count": 21,
   "metadata": {
    "ExecuteTime": {
     "end_time": "2020-07-01T19:19:20.433830Z",
     "start_time": "2020-07-01T19:19:16.302247Z"
    }
   },
   "outputs": [
    {
     "data": {
      "text/html": [
       "\n",
       "        <iframe\n",
       "            width=\"100%\"\n",
       "            height=\"475\"\n",
       "            src=\"http://jan-ThinkPad-T440:40000/dtale/iframe/4\"\n",
       "            frameborder=\"0\"\n",
       "            allowfullscreen\n",
       "        ></iframe>\n",
       "        "
      ],
      "text/plain": [
       "<IPython.lib.display.IFrame at 0x7fb0e0c23090>"
      ]
     },
     "metadata": {},
     "output_type": "display_data"
    },
    {
     "data": {
      "text/plain": []
     },
     "execution_count": 21,
     "metadata": {},
     "output_type": "execute_result"
    }
   ],
   "source": [
    "dtale.show(wax_data_B)"
   ]
  },
  {
   "cell_type": "code",
   "execution_count": 22,
   "metadata": {
    "ExecuteTime": {
     "end_time": "2020-07-01T19:19:22.110249Z",
     "start_time": "2020-07-01T19:19:22.104209Z"
    }
   },
   "outputs": [
    {
     "data": {
      "text/plain": [
       "(184, 1068)"
      ]
     },
     "execution_count": 22,
     "metadata": {},
     "output_type": "execute_result"
    }
   ],
   "source": [
    "wax_data_B.shape"
   ]
  },
  {
   "cell_type": "code",
   "execution_count": 23,
   "metadata": {
    "ExecuteTime": {
     "end_time": "2020-07-01T19:19:23.196092Z",
     "start_time": "2020-07-01T19:19:23.189823Z"
    }
   },
   "outputs": [],
   "source": [
    "# Save data"
   ]
  },
  {
   "cell_type": "code",
   "execution_count": 24,
   "metadata": {
    "ExecuteTime": {
     "end_time": "2020-07-01T19:19:24.628160Z",
     "start_time": "2020-07-01T19:19:24.504645Z"
    }
   },
   "outputs": [],
   "source": [
    "wax_data_A.to_csv(\"../data/interim/wax_data_A.csv\")\n",
    "wax_data_B.to_csv(\"../data/interim/wax_data_B.csv\")"
   ]
  }
 ],
 "metadata": {
  "kernelspec": {
   "display_name": "Python 3",
   "language": "python",
   "name": "python3"
  },
  "toc": {
   "base_numbering": 1,
   "nav_menu": {},
   "number_sections": true,
   "sideBar": true,
   "skip_h1_title": false,
   "title_cell": "Table of Contents",
   "title_sidebar": "Contents",
   "toc_cell": false,
   "toc_position": {},
   "toc_section_display": true,
   "toc_window_display": false
  },
  "varInspector": {
   "cols": {
    "lenName": 16,
    "lenType": 16,
    "lenVar": 40
   },
   "kernels_config": {
    "python": {
     "delete_cmd_postfix": "",
     "delete_cmd_prefix": "del ",
     "library": "var_list.py",
     "varRefreshCmd": "print(var_dic_list())"
    },
    "r": {
     "delete_cmd_postfix": ") ",
     "delete_cmd_prefix": "rm(",
     "library": "var_list.r",
     "varRefreshCmd": "cat(var_dic_list()) "
    }
   },
   "types_to_exclude": [
    "module",
    "function",
    "builtin_function_or_method",
    "instance",
    "_Feature"
   ],
   "window_display": false
  }
 },
 "nbformat": 4,
 "nbformat_minor": 2
}
