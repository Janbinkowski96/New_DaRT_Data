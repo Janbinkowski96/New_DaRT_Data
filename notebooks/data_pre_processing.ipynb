{
 "cells": [
  {
   "cell_type": "code",
   "execution_count": 1,
   "metadata": {
    "ExecuteTime": {
     "end_time": "2020-06-17T21:41:34.961610Z",
     "start_time": "2020-06-17T21:41:34.062534Z"
    }
   },
   "outputs": [],
   "source": [
    "import pandas as pd\n",
    "import dtale\n",
    "import numpy as np"
   ]
  },
  {
   "cell_type": "code",
   "execution_count": 2,
   "metadata": {
    "ExecuteTime": {
     "end_time": "2020-06-17T21:41:39.780406Z",
     "start_time": "2020-06-17T21:41:35.372593Z"
    }
   },
   "outputs": [],
   "source": [
    "# A - assigmed to 2R chromosome previously\n",
    "data_A = pd.read_excel(\"../data/raw/2R segregacje SNP i SIL [A].xlsx\", index_col=0)\n",
    "\n",
    "# B - assigned to 2R herein\n",
    "data_B = pd.read_excel(\"../data/raw/2R segregacje nieprzypisanych LOD45 [B].xlsx\", index_col=0)"
   ]
  },
  {
   "cell_type": "code",
   "execution_count": 3,
   "metadata": {
    "ExecuteTime": {
     "end_time": "2020-06-17T21:41:40.695131Z",
     "start_time": "2020-06-17T21:41:40.145528Z"
    },
    "scrolled": true
   },
   "outputs": [
    {
     "data": {
      "text/html": [
       "\n",
       "        <iframe\n",
       "            width=\"100%\"\n",
       "            height=\"475\"\n",
       "            src=\"http://jan-ThinkPad-T440:40000/dtale/iframe/1\"\n",
       "            frameborder=\"0\"\n",
       "            allowfullscreen\n",
       "        ></iframe>\n",
       "        "
      ],
      "text/plain": [
       "<IPython.lib.display.IFrame at 0x7f37f4f6cfd0>"
      ]
     },
     "metadata": {},
     "output_type": "display_data"
    },
    {
     "data": {
      "text/plain": []
     },
     "execution_count": 3,
     "metadata": {},
     "output_type": "execute_result"
    }
   ],
   "source": [
    "dtale.show(data_A)"
   ]
  },
  {
   "cell_type": "code",
   "execution_count": 4,
   "metadata": {
    "ExecuteTime": {
     "end_time": "2020-06-17T21:41:49.782110Z",
     "start_time": "2020-06-17T21:41:49.773362Z"
    }
   },
   "outputs": [
    {
     "data": {
      "text/plain": [
       "(1101, 185)"
      ]
     },
     "execution_count": 4,
     "metadata": {},
     "output_type": "execute_result"
    }
   ],
   "source": [
    "data_A.shape"
   ]
  },
  {
   "cell_type": "code",
   "execution_count": 5,
   "metadata": {
    "ExecuteTime": {
     "end_time": "2020-06-17T21:41:50.602858Z",
     "start_time": "2020-06-17T21:41:50.126953Z"
    },
    "scrolled": true
   },
   "outputs": [
    {
     "data": {
      "text/html": [
       "\n",
       "        <iframe\n",
       "            width=\"100%\"\n",
       "            height=\"475\"\n",
       "            src=\"http://jan-ThinkPad-T440:40000/dtale/iframe/2\"\n",
       "            frameborder=\"0\"\n",
       "            allowfullscreen\n",
       "        ></iframe>\n",
       "        "
      ],
      "text/plain": [
       "<IPython.lib.display.IFrame at 0x7f37f54d7e90>"
      ]
     },
     "metadata": {},
     "output_type": "display_data"
    },
    {
     "data": {
      "text/plain": []
     },
     "execution_count": 5,
     "metadata": {},
     "output_type": "execute_result"
    }
   ],
   "source": [
    "dtale.show(data_B)"
   ]
  },
  {
   "cell_type": "code",
   "execution_count": 6,
   "metadata": {
    "ExecuteTime": {
     "end_time": "2020-06-17T21:41:51.142388Z",
     "start_time": "2020-06-17T21:41:51.129031Z"
    }
   },
   "outputs": [
    {
     "data": {
      "text/plain": [
       "(1068, 184)"
      ]
     },
     "execution_count": 6,
     "metadata": {},
     "output_type": "execute_result"
    }
   ],
   "source": [
    "data_B.shape"
   ]
  },
  {
   "cell_type": "code",
   "execution_count": 7,
   "metadata": {
    "ExecuteTime": {
     "end_time": "2020-06-17T21:41:51.683445Z",
     "start_time": "2020-06-17T21:41:51.673803Z"
    }
   },
   "outputs": [],
   "source": [
    "data_A = data_A.drop(\"class\", axis=1)"
   ]
  },
  {
   "cell_type": "code",
   "execution_count": 8,
   "metadata": {
    "ExecuteTime": {
     "end_time": "2020-06-17T21:41:53.059798Z",
     "start_time": "2020-06-17T21:41:53.045982Z"
    }
   },
   "outputs": [],
   "source": [
    "feature_matrix_A = data_A.drop([\"wax\", \"wax_K\"], axis=0)\n",
    "feature_matrix_B = data_B.drop([\"wax_F2\"], axis=0)"
   ]
  },
  {
   "cell_type": "code",
   "execution_count": 9,
   "metadata": {
    "ExecuteTime": {
     "end_time": "2020-06-17T21:41:53.673490Z",
     "start_time": "2020-06-17T21:41:53.666200Z"
    }
   },
   "outputs": [],
   "source": [
    "# wax segregation\n",
    "wax_segregation_A = data_A.loc[\"wax\"]\n",
    "wax_segregation_B = data_B.loc[\"wax_F2\"]"
   ]
  },
  {
   "cell_type": "code",
   "execution_count": 10,
   "metadata": {
    "ExecuteTime": {
     "end_time": "2020-06-17T21:41:54.177781Z",
     "start_time": "2020-06-17T21:41:54.175414Z"
    }
   },
   "outputs": [],
   "source": [
    "# Feature data encoding"
   ]
  },
  {
   "cell_type": "code",
   "execution_count": 11,
   "metadata": {
    "ExecuteTime": {
     "end_time": "2020-06-17T21:41:54.734527Z",
     "start_time": "2020-06-17T21:41:54.730001Z"
    }
   },
   "outputs": [],
   "source": [
    "coder = {\"a\": 1, \"b\": 2, \"c\": 3, \"d\": 4, \"h\": 5, \"-\":0}"
   ]
  },
  {
   "cell_type": "code",
   "execution_count": 12,
   "metadata": {
    "ExecuteTime": {
     "end_time": "2020-06-17T21:41:55.625545Z",
     "start_time": "2020-06-17T21:41:55.226271Z"
    }
   },
   "outputs": [],
   "source": [
    "for column in feature_matrix_A.columns:\n",
    "    feature_matrix_A[column].replace(coder, inplace=True)"
   ]
  },
  {
   "cell_type": "code",
   "execution_count": 13,
   "metadata": {
    "ExecuteTime": {
     "end_time": "2020-06-17T21:41:56.476272Z",
     "start_time": "2020-06-17T21:41:56.104704Z"
    }
   },
   "outputs": [],
   "source": [
    "for column in feature_matrix_B.columns:\n",
    "    feature_matrix_B[column].replace(coder, inplace=True)"
   ]
  },
  {
   "cell_type": "code",
   "execution_count": 14,
   "metadata": {
    "ExecuteTime": {
     "end_time": "2020-06-17T21:41:56.976556Z",
     "start_time": "2020-06-17T21:41:56.973813Z"
    }
   },
   "outputs": [],
   "source": [
    "# Label data encoding"
   ]
  },
  {
   "cell_type": "code",
   "execution_count": 15,
   "metadata": {
    "ExecuteTime": {
     "end_time": "2020-06-17T21:41:57.782658Z",
     "start_time": "2020-06-17T21:41:57.775304Z"
    }
   },
   "outputs": [
    {
     "data": {
      "text/plain": [
       "d    146\n",
       "b     38\n",
       "Name: wax, dtype: int64"
      ]
     },
     "execution_count": 15,
     "metadata": {},
     "output_type": "execute_result"
    }
   ],
   "source": [
    "wax_segregation_A.value_counts()"
   ]
  },
  {
   "cell_type": "code",
   "execution_count": 16,
   "metadata": {
    "ExecuteTime": {
     "end_time": "2020-06-17T21:41:58.287937Z",
     "start_time": "2020-06-17T21:41:58.280603Z"
    }
   },
   "outputs": [
    {
     "data": {
      "text/plain": [
       "d    146\n",
       "b     38\n",
       "Name: wax_F2, dtype: int64"
      ]
     },
     "execution_count": 16,
     "metadata": {},
     "output_type": "execute_result"
    }
   ],
   "source": [
    "wax_segregation_B.value_counts()"
   ]
  },
  {
   "cell_type": "code",
   "execution_count": 17,
   "metadata": {
    "ExecuteTime": {
     "end_time": "2020-06-17T21:41:58.781566Z",
     "start_time": "2020-06-17T21:41:58.775940Z"
    }
   },
   "outputs": [],
   "source": [
    "wax_segregation_A = wax_segregation_A.map({\"d\": 1, \"b\": 0}) # d - wax; b - wax-less\n",
    "wax_segregation_B = wax_segregation_B.map({\"d\": 1, \"b\": 0})"
   ]
  },
  {
   "cell_type": "code",
   "execution_count": 18,
   "metadata": {
    "ExecuteTime": {
     "end_time": "2020-06-17T21:42:04.123527Z",
     "start_time": "2020-06-17T21:42:04.009954Z"
    }
   },
   "outputs": [],
   "source": [
    "wax_data_A = feature_matrix_A.append(wax_segregation_A).T\n",
    "wax_data_B = feature_matrix_B.append(wax_segregation_B).T"
   ]
  },
  {
   "cell_type": "code",
   "execution_count": 19,
   "metadata": {
    "ExecuteTime": {
     "end_time": "2020-06-17T21:42:08.818321Z",
     "start_time": "2020-06-17T21:42:05.082979Z"
    }
   },
   "outputs": [
    {
     "data": {
      "text/html": [
       "\n",
       "        <iframe\n",
       "            width=\"100%\"\n",
       "            height=\"475\"\n",
       "            src=\"http://jan-ThinkPad-T440:40000/dtale/iframe/3\"\n",
       "            frameborder=\"0\"\n",
       "            allowfullscreen\n",
       "        ></iframe>\n",
       "        "
      ],
      "text/plain": [
       "<IPython.lib.display.IFrame at 0x7f37f364d410>"
      ]
     },
     "metadata": {},
     "output_type": "display_data"
    },
    {
     "data": {
      "text/plain": []
     },
     "execution_count": 19,
     "metadata": {},
     "output_type": "execute_result"
    }
   ],
   "source": [
    "dtale.show(wax_data_A)"
   ]
  },
  {
   "cell_type": "code",
   "execution_count": 21,
   "metadata": {
    "ExecuteTime": {
     "end_time": "2020-06-17T21:42:50.236909Z",
     "start_time": "2020-06-17T21:42:50.231426Z"
    }
   },
   "outputs": [
    {
     "data": {
      "text/plain": [
       "(184, 1100)"
      ]
     },
     "execution_count": 21,
     "metadata": {},
     "output_type": "execute_result"
    }
   ],
   "source": [
    "wax_data_A.shape"
   ]
  },
  {
   "cell_type": "code",
   "execution_count": 22,
   "metadata": {
    "ExecuteTime": {
     "end_time": "2020-06-17T21:42:55.212571Z",
     "start_time": "2020-06-17T21:42:51.135199Z"
    }
   },
   "outputs": [
    {
     "data": {
      "text/html": [
       "\n",
       "        <iframe\n",
       "            width=\"100%\"\n",
       "            height=\"475\"\n",
       "            src=\"http://jan-ThinkPad-T440:40000/dtale/iframe/4\"\n",
       "            frameborder=\"0\"\n",
       "            allowfullscreen\n",
       "        ></iframe>\n",
       "        "
      ],
      "text/plain": [
       "<IPython.lib.display.IFrame at 0x7f37f3274190>"
      ]
     },
     "metadata": {},
     "output_type": "display_data"
    },
    {
     "data": {
      "text/plain": []
     },
     "execution_count": 22,
     "metadata": {},
     "output_type": "execute_result"
    }
   ],
   "source": [
    "dtale.show(wax_data_B)"
   ]
  },
  {
   "cell_type": "code",
   "execution_count": 23,
   "metadata": {
    "ExecuteTime": {
     "end_time": "2020-06-17T21:42:56.768562Z",
     "start_time": "2020-06-17T21:42:56.759862Z"
    }
   },
   "outputs": [
    {
     "data": {
      "text/plain": [
       "(184, 1068)"
      ]
     },
     "execution_count": 23,
     "metadata": {},
     "output_type": "execute_result"
    }
   ],
   "source": [
    "wax_data_B.shape"
   ]
  },
  {
   "cell_type": "code",
   "execution_count": 23,
   "metadata": {
    "ExecuteTime": {
     "end_time": "2020-06-16T15:38:43.263015Z",
     "start_time": "2020-06-16T15:38:43.252796Z"
    }
   },
   "outputs": [],
   "source": [
    "# Save data"
   ]
  },
  {
   "cell_type": "code",
   "execution_count": 24,
   "metadata": {
    "ExecuteTime": {
     "end_time": "2020-06-16T15:38:43.772332Z",
     "start_time": "2020-06-16T15:38:43.267812Z"
    }
   },
   "outputs": [],
   "source": [
    "wax_data_A.to_csv(\"../data/interim/wax_data_A.csv\")\n",
    "wax_data_B.to_csv(\"../data/interim/wax_data_B.csv\")"
   ]
  }
 ],
 "metadata": {
  "kernelspec": {
   "display_name": "Python 3",
   "language": "python",
   "name": "python3"
  },
  "language_info": {
   "codemirror_mode": {
    "name": "ipython",
    "version": 3
   },
   "file_extension": ".py",
   "mimetype": "text/x-python",
   "name": "python",
   "nbconvert_exporter": "python",
   "pygments_lexer": "ipython3",
   "version": "3.7.6"
  },
  "toc": {
   "base_numbering": 1,
   "nav_menu": {},
   "number_sections": true,
   "sideBar": true,
   "skip_h1_title": false,
   "title_cell": "Table of Contents",
   "title_sidebar": "Contents",
   "toc_cell": false,
   "toc_position": {},
   "toc_section_display": true,
   "toc_window_display": false
  },
  "varInspector": {
   "cols": {
    "lenName": 16,
    "lenType": 16,
    "lenVar": 40
   },
   "kernels_config": {
    "python": {
     "delete_cmd_postfix": "",
     "delete_cmd_prefix": "del ",
     "library": "var_list.py",
     "varRefreshCmd": "print(var_dic_list())"
    },
    "r": {
     "delete_cmd_postfix": ") ",
     "delete_cmd_prefix": "rm(",
     "library": "var_list.r",
     "varRefreshCmd": "cat(var_dic_list()) "
    }
   },
   "types_to_exclude": [
    "module",
    "function",
    "builtin_function_or_method",
    "instance",
    "_Feature"
   ],
   "window_display": false
  }
 },
 "nbformat": 4,
 "nbformat_minor": 2
}
