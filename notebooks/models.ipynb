{
 "cells": [
  {
   "cell_type": "code",
   "execution_count": 1,
   "metadata": {
    "ExecuteTime": {
     "end_time": "2020-05-29T20:03:42.201950Z",
     "start_time": "2020-05-29T20:03:41.078103Z"
    }
   },
   "outputs": [],
   "source": [
    "import joblib\n",
    "import numpy as np\n",
    "import pandas as pd\n",
    "import seaborn as sns\n",
    "from scipy.stats import uniform, rv_discrete\n",
    "from sklearn.model_selection import train_test_split"
   ]
  },
  {
   "cell_type": "code",
   "execution_count": 2,
   "metadata": {
    "ExecuteTime": {
     "end_time": "2020-05-29T20:03:42.257060Z",
     "start_time": "2020-05-29T20:03:42.204586Z"
    }
   },
   "outputs": [],
   "source": [
    "from sklearn.model_selection import RandomizedSearchCV\n",
    "from sklearn.linear_model import LogisticRegression\n",
    "from sklearn.ensemble import RandomForestClassifier\n",
    "from sklearn.metrics import classification_report\n",
    "from xgboost import XGBClassifier"
   ]
  },
  {
   "cell_type": "code",
   "execution_count": 3,
   "metadata": {
    "ExecuteTime": {
     "end_time": "2020-05-29T20:03:42.463064Z",
     "start_time": "2020-05-29T20:03:42.260201Z"
    }
   },
   "outputs": [],
   "source": [
    "wax_data_A = pd.read_csv(\"../data/interim/wax_data_A.csv\", index_col=0)\n",
    "wax_data_B = pd.read_csv(\"../data/interim/wax_data_B.csv\", index_col=0)"
   ]
  },
  {
   "cell_type": "code",
   "execution_count": 4,
   "metadata": {
    "ExecuteTime": {
     "end_time": "2020-05-29T20:03:42.494383Z",
     "start_time": "2020-05-29T20:03:42.465316Z"
    }
   },
   "outputs": [
    {
     "data": {
      "text/html": [
       "<div>\n",
       "<style scoped>\n",
       "    .dataframe tbody tr th:only-of-type {\n",
       "        vertical-align: middle;\n",
       "    }\n",
       "\n",
       "    .dataframe tbody tr th {\n",
       "        vertical-align: top;\n",
       "    }\n",
       "\n",
       "    .dataframe thead th {\n",
       "        text-align: right;\n",
       "    }\n",
       "</style>\n",
       "<table border=\"1\" class=\"dataframe\">\n",
       "  <thead>\n",
       "    <tr style=\"text-align: right;\">\n",
       "      <th></th>\n",
       "      <th>5487157_55:C&gt;T</th>\n",
       "      <th>3743550_33:A&gt;C</th>\n",
       "      <th>3890504_12:A&gt;G</th>\n",
       "      <th>3749835_12:T&gt;A</th>\n",
       "      <th>5803165_43:G&gt;C</th>\n",
       "      <th>3580391_37:C&gt;T</th>\n",
       "      <th>3596752_10:G&gt;A</th>\n",
       "      <th>5497838_52:C&gt;G</th>\n",
       "      <th>3365135_13:C&gt;G</th>\n",
       "      <th>3358883_23:T&gt;C</th>\n",
       "      <th>...</th>\n",
       "      <th>3595103</th>\n",
       "      <th>3349314</th>\n",
       "      <th>3894206</th>\n",
       "      <th>3349326</th>\n",
       "      <th>3345945</th>\n",
       "      <th>3358741</th>\n",
       "      <th>3342391</th>\n",
       "      <th>3346044</th>\n",
       "      <th>3345296</th>\n",
       "      <th>wax</th>\n",
       "    </tr>\n",
       "  </thead>\n",
       "  <tbody>\n",
       "    <tr>\n",
       "      <th>BK2</th>\n",
       "      <td>1</td>\n",
       "      <td>1</td>\n",
       "      <td>5</td>\n",
       "      <td>2</td>\n",
       "      <td>1</td>\n",
       "      <td>5</td>\n",
       "      <td>5</td>\n",
       "      <td>5</td>\n",
       "      <td>1</td>\n",
       "      <td>2</td>\n",
       "      <td>...</td>\n",
       "      <td>4</td>\n",
       "      <td>4</td>\n",
       "      <td>4</td>\n",
       "      <td>0</td>\n",
       "      <td>4</td>\n",
       "      <td>4</td>\n",
       "      <td>4</td>\n",
       "      <td>2</td>\n",
       "      <td>2</td>\n",
       "      <td>1</td>\n",
       "    </tr>\n",
       "    <tr>\n",
       "      <th>BK4</th>\n",
       "      <td>5</td>\n",
       "      <td>5</td>\n",
       "      <td>5</td>\n",
       "      <td>1</td>\n",
       "      <td>5</td>\n",
       "      <td>5</td>\n",
       "      <td>5</td>\n",
       "      <td>5</td>\n",
       "      <td>5</td>\n",
       "      <td>5</td>\n",
       "      <td>...</td>\n",
       "      <td>0</td>\n",
       "      <td>4</td>\n",
       "      <td>4</td>\n",
       "      <td>4</td>\n",
       "      <td>4</td>\n",
       "      <td>4</td>\n",
       "      <td>4</td>\n",
       "      <td>2</td>\n",
       "      <td>2</td>\n",
       "      <td>1</td>\n",
       "    </tr>\n",
       "    <tr>\n",
       "      <th>BK5</th>\n",
       "      <td>5</td>\n",
       "      <td>5</td>\n",
       "      <td>2</td>\n",
       "      <td>5</td>\n",
       "      <td>2</td>\n",
       "      <td>5</td>\n",
       "      <td>5</td>\n",
       "      <td>5</td>\n",
       "      <td>5</td>\n",
       "      <td>5</td>\n",
       "      <td>...</td>\n",
       "      <td>2</td>\n",
       "      <td>2</td>\n",
       "      <td>2</td>\n",
       "      <td>2</td>\n",
       "      <td>4</td>\n",
       "      <td>2</td>\n",
       "      <td>2</td>\n",
       "      <td>2</td>\n",
       "      <td>2</td>\n",
       "      <td>1</td>\n",
       "    </tr>\n",
       "    <tr>\n",
       "      <th>BK6</th>\n",
       "      <td>1</td>\n",
       "      <td>1</td>\n",
       "      <td>5</td>\n",
       "      <td>5</td>\n",
       "      <td>5</td>\n",
       "      <td>5</td>\n",
       "      <td>5</td>\n",
       "      <td>5</td>\n",
       "      <td>1</td>\n",
       "      <td>5</td>\n",
       "      <td>...</td>\n",
       "      <td>4</td>\n",
       "      <td>0</td>\n",
       "      <td>4</td>\n",
       "      <td>4</td>\n",
       "      <td>4</td>\n",
       "      <td>4</td>\n",
       "      <td>2</td>\n",
       "      <td>2</td>\n",
       "      <td>2</td>\n",
       "      <td>1</td>\n",
       "    </tr>\n",
       "    <tr>\n",
       "      <th>BK9</th>\n",
       "      <td>5</td>\n",
       "      <td>1</td>\n",
       "      <td>5</td>\n",
       "      <td>1</td>\n",
       "      <td>1</td>\n",
       "      <td>5</td>\n",
       "      <td>5</td>\n",
       "      <td>5</td>\n",
       "      <td>5</td>\n",
       "      <td>1</td>\n",
       "      <td>...</td>\n",
       "      <td>2</td>\n",
       "      <td>4</td>\n",
       "      <td>2</td>\n",
       "      <td>2</td>\n",
       "      <td>4</td>\n",
       "      <td>2</td>\n",
       "      <td>4</td>\n",
       "      <td>2</td>\n",
       "      <td>2</td>\n",
       "      <td>1</td>\n",
       "    </tr>\n",
       "  </tbody>\n",
       "</table>\n",
       "<p>5 rows × 1100 columns</p>\n",
       "</div>"
      ],
      "text/plain": [
       "     5487157_55:C>T  3743550_33:A>C  3890504_12:A>G  3749835_12:T>A  \\\n",
       "BK2               1               1               5               2   \n",
       "BK4               5               5               5               1   \n",
       "BK5               5               5               2               5   \n",
       "BK6               1               1               5               5   \n",
       "BK9               5               1               5               1   \n",
       "\n",
       "     5803165_43:G>C  3580391_37:C>T  3596752_10:G>A  5497838_52:C>G  \\\n",
       "BK2               1               5               5               5   \n",
       "BK4               5               5               5               5   \n",
       "BK5               2               5               5               5   \n",
       "BK6               5               5               5               5   \n",
       "BK9               1               5               5               5   \n",
       "\n",
       "     3365135_13:C>G  3358883_23:T>C  ...  3595103  3349314  3894206  3349326  \\\n",
       "BK2               1               2  ...        4        4        4        0   \n",
       "BK4               5               5  ...        0        4        4        4   \n",
       "BK5               5               5  ...        2        2        2        2   \n",
       "BK6               1               5  ...        4        0        4        4   \n",
       "BK9               5               1  ...        2        4        2        2   \n",
       "\n",
       "     3345945  3358741  3342391  3346044  3345296  wax  \n",
       "BK2        4        4        4        2        2    1  \n",
       "BK4        4        4        4        2        2    1  \n",
       "BK5        4        2        2        2        2    1  \n",
       "BK6        4        4        2        2        2    1  \n",
       "BK9        4        2        4        2        2    1  \n",
       "\n",
       "[5 rows x 1100 columns]"
      ]
     },
     "execution_count": 4,
     "metadata": {},
     "output_type": "execute_result"
    }
   ],
   "source": [
    "wax_data_A.head()"
   ]
  },
  {
   "cell_type": "code",
   "execution_count": 5,
   "metadata": {
    "ExecuteTime": {
     "end_time": "2020-05-29T20:03:42.523993Z",
     "start_time": "2020-05-29T20:03:42.496460Z"
    }
   },
   "outputs": [
    {
     "data": {
      "text/html": [
       "<div>\n",
       "<style scoped>\n",
       "    .dataframe tbody tr th:only-of-type {\n",
       "        vertical-align: middle;\n",
       "    }\n",
       "\n",
       "    .dataframe tbody tr th {\n",
       "        vertical-align: top;\n",
       "    }\n",
       "\n",
       "    .dataframe thead th {\n",
       "        text-align: right;\n",
       "    }\n",
       "</style>\n",
       "<table border=\"1\" class=\"dataframe\">\n",
       "  <thead>\n",
       "    <tr style=\"text-align: right;\">\n",
       "      <th></th>\n",
       "      <th>3582180_47:T&gt;C</th>\n",
       "      <th>4092788_55:G&gt;A</th>\n",
       "      <th>5805558_52:T&gt;C</th>\n",
       "      <th>7092891_37:C&gt;G</th>\n",
       "      <th>4095376_42:T&gt;C</th>\n",
       "      <th>7466917_7:G&gt;A</th>\n",
       "      <th>3734787_27:G&gt;C</th>\n",
       "      <th>3598410_28:G&gt;A</th>\n",
       "      <th>4095111_62:G&gt;A</th>\n",
       "      <th>3363388_38:G&gt;C</th>\n",
       "      <th>...</th>\n",
       "      <th>7465483</th>\n",
       "      <th>3593882</th>\n",
       "      <th>31721950</th>\n",
       "      <th>7105614</th>\n",
       "      <th>3892038</th>\n",
       "      <th>3597569</th>\n",
       "      <th>5502923</th>\n",
       "      <th>7356886</th>\n",
       "      <th>4498183</th>\n",
       "      <th>wax_F2</th>\n",
       "    </tr>\n",
       "  </thead>\n",
       "  <tbody>\n",
       "    <tr>\n",
       "      <th>BK2</th>\n",
       "      <td>1</td>\n",
       "      <td>5</td>\n",
       "      <td>5</td>\n",
       "      <td>5</td>\n",
       "      <td>1</td>\n",
       "      <td>1</td>\n",
       "      <td>1</td>\n",
       "      <td>5</td>\n",
       "      <td>1</td>\n",
       "      <td>5</td>\n",
       "      <td>...</td>\n",
       "      <td>1</td>\n",
       "      <td>1</td>\n",
       "      <td>1</td>\n",
       "      <td>1</td>\n",
       "      <td>4</td>\n",
       "      <td>4</td>\n",
       "      <td>4</td>\n",
       "      <td>4</td>\n",
       "      <td>4</td>\n",
       "      <td>1</td>\n",
       "    </tr>\n",
       "    <tr>\n",
       "      <th>BK4</th>\n",
       "      <td>5</td>\n",
       "      <td>5</td>\n",
       "      <td>5</td>\n",
       "      <td>5</td>\n",
       "      <td>5</td>\n",
       "      <td>5</td>\n",
       "      <td>5</td>\n",
       "      <td>5</td>\n",
       "      <td>5</td>\n",
       "      <td>5</td>\n",
       "      <td>...</td>\n",
       "      <td>0</td>\n",
       "      <td>3</td>\n",
       "      <td>3</td>\n",
       "      <td>3</td>\n",
       "      <td>4</td>\n",
       "      <td>4</td>\n",
       "      <td>4</td>\n",
       "      <td>4</td>\n",
       "      <td>4</td>\n",
       "      <td>1</td>\n",
       "    </tr>\n",
       "    <tr>\n",
       "      <th>BK5</th>\n",
       "      <td>2</td>\n",
       "      <td>5</td>\n",
       "      <td>2</td>\n",
       "      <td>5</td>\n",
       "      <td>5</td>\n",
       "      <td>5</td>\n",
       "      <td>2</td>\n",
       "      <td>5</td>\n",
       "      <td>5</td>\n",
       "      <td>5</td>\n",
       "      <td>...</td>\n",
       "      <td>3</td>\n",
       "      <td>3</td>\n",
       "      <td>3</td>\n",
       "      <td>3</td>\n",
       "      <td>2</td>\n",
       "      <td>2</td>\n",
       "      <td>2</td>\n",
       "      <td>2</td>\n",
       "      <td>2</td>\n",
       "      <td>1</td>\n",
       "    </tr>\n",
       "    <tr>\n",
       "      <th>BK6</th>\n",
       "      <td>5</td>\n",
       "      <td>5</td>\n",
       "      <td>5</td>\n",
       "      <td>5</td>\n",
       "      <td>1</td>\n",
       "      <td>5</td>\n",
       "      <td>5</td>\n",
       "      <td>5</td>\n",
       "      <td>1</td>\n",
       "      <td>5</td>\n",
       "      <td>...</td>\n",
       "      <td>1</td>\n",
       "      <td>1</td>\n",
       "      <td>1</td>\n",
       "      <td>3</td>\n",
       "      <td>4</td>\n",
       "      <td>4</td>\n",
       "      <td>4</td>\n",
       "      <td>4</td>\n",
       "      <td>4</td>\n",
       "      <td>1</td>\n",
       "    </tr>\n",
       "    <tr>\n",
       "      <th>BK9</th>\n",
       "      <td>2</td>\n",
       "      <td>5</td>\n",
       "      <td>5</td>\n",
       "      <td>1</td>\n",
       "      <td>5</td>\n",
       "      <td>5</td>\n",
       "      <td>5</td>\n",
       "      <td>5</td>\n",
       "      <td>1</td>\n",
       "      <td>5</td>\n",
       "      <td>...</td>\n",
       "      <td>1</td>\n",
       "      <td>1</td>\n",
       "      <td>1</td>\n",
       "      <td>1</td>\n",
       "      <td>2</td>\n",
       "      <td>2</td>\n",
       "      <td>2</td>\n",
       "      <td>2</td>\n",
       "      <td>4</td>\n",
       "      <td>1</td>\n",
       "    </tr>\n",
       "  </tbody>\n",
       "</table>\n",
       "<p>5 rows × 1068 columns</p>\n",
       "</div>"
      ],
      "text/plain": [
       "     3582180_47:T>C  4092788_55:G>A  5805558_52:T>C  7092891_37:C>G  \\\n",
       "BK2               1               5               5               5   \n",
       "BK4               5               5               5               5   \n",
       "BK5               2               5               2               5   \n",
       "BK6               5               5               5               5   \n",
       "BK9               2               5               5               1   \n",
       "\n",
       "     4095376_42:T>C  7466917_7:G>A  3734787_27:G>C  3598410_28:G>A  \\\n",
       "BK2               1              1               1               5   \n",
       "BK4               5              5               5               5   \n",
       "BK5               5              5               2               5   \n",
       "BK6               1              5               5               5   \n",
       "BK9               5              5               5               5   \n",
       "\n",
       "     4095111_62:G>A  3363388_38:G>C  ...  7465483  3593882  31721950  7105614  \\\n",
       "BK2               1               5  ...        1        1         1        1   \n",
       "BK4               5               5  ...        0        3         3        3   \n",
       "BK5               5               5  ...        3        3         3        3   \n",
       "BK6               1               5  ...        1        1         1        3   \n",
       "BK9               1               5  ...        1        1         1        1   \n",
       "\n",
       "     3892038  3597569  5502923  7356886  4498183  wax_F2  \n",
       "BK2        4        4        4        4        4       1  \n",
       "BK4        4        4        4        4        4       1  \n",
       "BK5        2        2        2        2        2       1  \n",
       "BK6        4        4        4        4        4       1  \n",
       "BK9        2        2        2        2        4       1  \n",
       "\n",
       "[5 rows x 1068 columns]"
      ]
     },
     "execution_count": 5,
     "metadata": {},
     "output_type": "execute_result"
    }
   ],
   "source": [
    "wax_data_B.head()"
   ]
  },
  {
   "cell_type": "code",
   "execution_count": 6,
   "metadata": {
    "ExecuteTime": {
     "end_time": "2020-05-29T20:03:42.536579Z",
     "start_time": "2020-05-29T20:03:42.526274Z"
    }
   },
   "outputs": [],
   "source": [
    "# Already mapped\n",
    "X_A = wax_data_A.drop(\"wax\", axis=1)\n",
    "y_A = wax_data_A[\"wax\"]\n",
    "\n",
    "# Unmaped markers\n",
    "X_B = wax_data_B.drop(\"wax_F2\", axis=1)\n",
    "y_B = wax_data_B[\"wax_F2\"]"
   ]
  },
  {
   "cell_type": "code",
   "execution_count": 7,
   "metadata": {
    "ExecuteTime": {
     "end_time": "2020-05-29T20:03:42.555178Z",
     "start_time": "2020-05-29T20:03:42.540995Z"
    }
   },
   "outputs": [],
   "source": [
    "X_train, X_test, y_train, y_test = train_test_split(X_A, y_A, test_size=0.4, random_state=40)\n",
    "X_train_2, X_test_2, y_train_2, y_test_2 = train_test_split(X_B, y_B, test_size=0.4, random_state=40)"
   ]
  },
  {
   "cell_type": "code",
   "execution_count": 8,
   "metadata": {
    "ExecuteTime": {
     "end_time": "2020-05-29T20:03:42.562333Z",
     "start_time": "2020-05-29T20:03:42.559015Z"
    }
   },
   "outputs": [],
   "source": [
    "# Logistic Regression"
   ]
  },
  {
   "cell_type": "code",
   "execution_count": 9,
   "metadata": {
    "ExecuteTime": {
     "end_time": "2020-05-29T20:03:42.568498Z",
     "start_time": "2020-05-29T20:03:42.565321Z"
    }
   },
   "outputs": [],
   "source": [
    "# Wax data A"
   ]
  },
  {
   "cell_type": "code",
   "execution_count": 10,
   "metadata": {
    "ExecuteTime": {
     "end_time": "2020-05-29T20:03:49.446948Z",
     "start_time": "2020-05-29T20:03:42.571348Z"
    }
   },
   "outputs": [
    {
     "data": {
      "text/plain": [
       "RandomizedSearchCV(cv=5, error_score='raise-deprecating',\n",
       "                   estimator=LogisticRegression(C=1.0, class_weight=None,\n",
       "                                                dual=False, fit_intercept=True,\n",
       "                                                intercept_scaling=1,\n",
       "                                                l1_ratio=None, max_iter=100,\n",
       "                                                multi_class='warn', n_jobs=None,\n",
       "                                                penalty='l1', random_state=101,\n",
       "                                                solver='liblinear', tol=0.0001,\n",
       "                                                verbose=0, warm_start=False),\n",
       "                   iid=False, n_iter=100, n_jobs=-1,\n",
       "                   param_distributions={'C': <scipy.stats._distn_infrastructure.rv_frozen object at 0x7f833c7fdfd0>},\n",
       "                   pre_dispatch='2*n_jobs', random_state=101, refit=True,\n",
       "                   return_train_score=False, scoring=None, verbose=0)"
      ]
     },
     "execution_count": 10,
     "metadata": {},
     "output_type": "execute_result"
    }
   ],
   "source": [
    "lr = LogisticRegression(penalty=\"l1\", solver=\"liblinear\", random_state=101)\n",
    "distributions = {\"C\": uniform(loc=0, scale=10)}\n",
    "\n",
    "lr_sg = RandomizedSearchCV(lr, distributions, random_state=101, \n",
    "                           n_jobs=-1, n_iter=100, cv=5, iid=False)\n",
    "\n",
    "lr_sg.fit(X_train, y_train)"
   ]
  },
  {
   "cell_type": "code",
   "execution_count": 11,
   "metadata": {
    "ExecuteTime": {
     "end_time": "2020-05-29T20:03:49.455503Z",
     "start_time": "2020-05-29T20:03:49.449627Z"
    }
   },
   "outputs": [
    {
     "data": {
      "text/plain": [
       "0.9913043478260869"
      ]
     },
     "execution_count": 11,
     "metadata": {},
     "output_type": "execute_result"
    }
   ],
   "source": [
    "lr_sg.best_score_"
   ]
  },
  {
   "cell_type": "code",
   "execution_count": 12,
   "metadata": {
    "ExecuteTime": {
     "end_time": "2020-05-29T20:03:49.464097Z",
     "start_time": "2020-05-29T20:03:49.458463Z"
    }
   },
   "outputs": [
    {
     "data": {
      "text/plain": [
       "{'C': 0.2847422647809694}"
      ]
     },
     "execution_count": 12,
     "metadata": {},
     "output_type": "execute_result"
    }
   ],
   "source": [
    "lr_sg.best_params_"
   ]
  },
  {
   "cell_type": "code",
   "execution_count": 13,
   "metadata": {
    "ExecuteTime": {
     "end_time": "2020-05-29T20:03:49.475233Z",
     "start_time": "2020-05-29T20:03:49.466837Z"
    }
   },
   "outputs": [
    {
     "data": {
      "text/plain": [
       "['../models/logistic_regression_wax_A']"
      ]
     },
     "execution_count": 13,
     "metadata": {},
     "output_type": "execute_result"
    }
   ],
   "source": [
    "joblib.dump(lr_sg.best_estimator_, \"../models/logistic_regression_wax_A\")"
   ]
  },
  {
   "cell_type": "code",
   "execution_count": 14,
   "metadata": {
    "ExecuteTime": {
     "end_time": "2020-05-29T20:03:49.481744Z",
     "start_time": "2020-05-29T20:03:49.477266Z"
    }
   },
   "outputs": [],
   "source": [
    "# Wax_data B"
   ]
  },
  {
   "cell_type": "code",
   "execution_count": 15,
   "metadata": {
    "ExecuteTime": {
     "end_time": "2020-05-29T20:04:00.092906Z",
     "start_time": "2020-05-29T20:03:49.485026Z"
    }
   },
   "outputs": [
    {
     "data": {
      "text/plain": [
       "RandomizedSearchCV(cv=5, error_score='raise-deprecating',\n",
       "                   estimator=LogisticRegression(C=1.0, class_weight=None,\n",
       "                                                dual=False, fit_intercept=True,\n",
       "                                                intercept_scaling=1,\n",
       "                                                l1_ratio=None, max_iter=100,\n",
       "                                                multi_class='warn', n_jobs=None,\n",
       "                                                penalty='l1', random_state=101,\n",
       "                                                solver='liblinear', tol=0.0001,\n",
       "                                                verbose=0, warm_start=False),\n",
       "                   iid=False, n_iter=100, n_jobs=2,\n",
       "                   param_distributions={'C': <scipy.stats._distn_infrastructure.rv_frozen object at 0x7f833c42fc90>},\n",
       "                   pre_dispatch='2*n_jobs', random_state=101, refit=True,\n",
       "                   return_train_score=False, scoring=None, verbose=0)"
      ]
     },
     "execution_count": 15,
     "metadata": {},
     "output_type": "execute_result"
    }
   ],
   "source": [
    "lr2 = LogisticRegression(penalty=\"l1\", solver=\"liblinear\", random_state=101)\n",
    "distributions = {\"C\": uniform(loc=0, scale=10)}\n",
    "\n",
    "lr_sg_2 = RandomizedSearchCV(lr2, distributions, random_state=101, \n",
    "                           n_jobs=2, n_iter=100, cv=5, iid=False)\n",
    "\n",
    "lr_sg_2.fit(X_train_2, y_train_2)"
   ]
  },
  {
   "cell_type": "code",
   "execution_count": 16,
   "metadata": {
    "ExecuteTime": {
     "end_time": "2020-05-29T20:04:00.112673Z",
     "start_time": "2020-05-29T20:04:00.098981Z"
    }
   },
   "outputs": [
    {
     "data": {
      "text/plain": [
       "0.9813852813852814"
      ]
     },
     "execution_count": 16,
     "metadata": {},
     "output_type": "execute_result"
    }
   ],
   "source": [
    "lr_sg_2.best_score_"
   ]
  },
  {
   "cell_type": "code",
   "execution_count": 17,
   "metadata": {
    "ExecuteTime": {
     "end_time": "2020-05-29T20:04:00.136099Z",
     "start_time": "2020-05-29T20:04:00.122739Z"
    }
   },
   "outputs": [
    {
     "data": {
      "text/plain": [
       "{'C': 2.755725448969536}"
      ]
     },
     "execution_count": 17,
     "metadata": {},
     "output_type": "execute_result"
    }
   ],
   "source": [
    "lr_sg_2.best_params_"
   ]
  },
  {
   "cell_type": "code",
   "execution_count": 18,
   "metadata": {
    "ExecuteTime": {
     "end_time": "2020-05-29T20:04:00.155800Z",
     "start_time": "2020-05-29T20:04:00.138153Z"
    }
   },
   "outputs": [
    {
     "data": {
      "text/plain": [
       "['../models/logistic_regression_wax_B']"
      ]
     },
     "execution_count": 18,
     "metadata": {},
     "output_type": "execute_result"
    }
   ],
   "source": [
    "joblib.dump(lr_sg_2.best_estimator_, \"../models/logistic_regression_wax_B\")"
   ]
  },
  {
   "cell_type": "code",
   "execution_count": 19,
   "metadata": {
    "ExecuteTime": {
     "end_time": "2020-05-29T20:04:00.171068Z",
     "start_time": "2020-05-29T20:04:00.166324Z"
    }
   },
   "outputs": [],
   "source": [
    "# Random forest"
   ]
  },
  {
   "cell_type": "code",
   "execution_count": 20,
   "metadata": {
    "ExecuteTime": {
     "end_time": "2020-05-29T20:04:00.179672Z",
     "start_time": "2020-05-29T20:04:00.175536Z"
    }
   },
   "outputs": [],
   "source": [
    "# Wax data A"
   ]
  },
  {
   "cell_type": "code",
   "execution_count": 21,
   "metadata": {
    "ExecuteTime": {
     "end_time": "2020-05-29T20:05:11.106765Z",
     "start_time": "2020-05-29T20:04:00.183457Z"
    }
   },
   "outputs": [
    {
     "data": {
      "text/plain": [
       "RandomizedSearchCV(cv=5, error_score='raise-deprecating',\n",
       "                   estimator=RandomForestClassifier(bootstrap=True,\n",
       "                                                    class_weight=None,\n",
       "                                                    criterion='gini',\n",
       "                                                    max_depth=None,\n",
       "                                                    max_features='auto',\n",
       "                                                    max_leaf_nodes=None,\n",
       "                                                    min_impurity_decrease=0.0,\n",
       "                                                    min_impurity_split=None,\n",
       "                                                    min_samples_leaf=1,\n",
       "                                                    min_samples_split=2,\n",
       "                                                    min_weight_fraction_leaf=0.0,\n",
       "                                                    n_estimators='warn',\n",
       "                                                    n_jobs=None,\n",
       "                                                    oob_sc...\n",
       "       438, 439, 440, 441, 442, 443, 444, 445, 446, 447, 448, 449, 450,\n",
       "       451, 452, 453, 454, 455, 456, 457, 458, 459, 460, 461, 462, 463,\n",
       "       464, 465, 466, 467, 468, 469, 470, 471, 472, 473, 474, 475, 476,\n",
       "       477, 478, 479, 480, 481, 482, 483, 484, 485, 486, 487, 488, 489,\n",
       "       490, 491, 492, 493, 494, 495, 496, 497, 498, 499])},\n",
       "                   pre_dispatch='2*n_jobs', random_state=101, refit=True,\n",
       "                   return_train_score=False, scoring=None, verbose=0)"
      ]
     },
     "execution_count": 21,
     "metadata": {},
     "output_type": "execute_result"
    }
   ],
   "source": [
    "rf = RandomForestClassifier(random_state=101)\n",
    "distributions = {\"n_estimators\": np.arange(100, 500, 1)}\n",
    "\n",
    "rf_sg = RandomizedSearchCV(rf, distributions, random_state=101, n_jobs=-1, n_iter=100, cv=5, iid=False)\n",
    "rf_sg.fit(X_train, y_train)"
   ]
  },
  {
   "cell_type": "code",
   "execution_count": 22,
   "metadata": {
    "ExecuteTime": {
     "end_time": "2020-05-29T20:05:11.121791Z",
     "start_time": "2020-05-29T20:05:11.113070Z"
    }
   },
   "outputs": [
    {
     "data": {
      "text/plain": [
       "0.9635610766045548"
      ]
     },
     "execution_count": 22,
     "metadata": {},
     "output_type": "execute_result"
    }
   ],
   "source": [
    "rf_sg.best_score_"
   ]
  },
  {
   "cell_type": "code",
   "execution_count": 23,
   "metadata": {
    "ExecuteTime": {
     "end_time": "2020-05-29T20:05:11.136677Z",
     "start_time": "2020-05-29T20:05:11.127616Z"
    }
   },
   "outputs": [
    {
     "data": {
      "text/plain": [
       "{'n_estimators': 138}"
      ]
     },
     "execution_count": 23,
     "metadata": {},
     "output_type": "execute_result"
    }
   ],
   "source": [
    "rf_sg.best_params_"
   ]
  },
  {
   "cell_type": "code",
   "execution_count": 24,
   "metadata": {
    "ExecuteTime": {
     "end_time": "2020-05-29T20:05:11.236335Z",
     "start_time": "2020-05-29T20:05:11.140090Z"
    }
   },
   "outputs": [
    {
     "data": {
      "text/plain": [
       "['../models/random_forest_wax_A']"
      ]
     },
     "execution_count": 24,
     "metadata": {},
     "output_type": "execute_result"
    }
   ],
   "source": [
    "joblib.dump(rf_sg.best_estimator_, \"../models/random_forest_wax_A\")"
   ]
  },
  {
   "cell_type": "code",
   "execution_count": 25,
   "metadata": {
    "ExecuteTime": {
     "end_time": "2020-05-29T20:05:11.245266Z",
     "start_time": "2020-05-29T20:05:11.240517Z"
    }
   },
   "outputs": [],
   "source": [
    "# Wax data B"
   ]
  },
  {
   "cell_type": "code",
   "execution_count": 26,
   "metadata": {
    "ExecuteTime": {
     "end_time": "2020-05-29T20:06:11.225232Z",
     "start_time": "2020-05-29T20:05:11.247276Z"
    }
   },
   "outputs": [
    {
     "data": {
      "text/plain": [
       "RandomizedSearchCV(cv=5, error_score='raise-deprecating',\n",
       "                   estimator=RandomForestClassifier(bootstrap=True,\n",
       "                                                    class_weight=None,\n",
       "                                                    criterion='gini',\n",
       "                                                    max_depth=None,\n",
       "                                                    max_features='auto',\n",
       "                                                    max_leaf_nodes=None,\n",
       "                                                    min_impurity_decrease=0.0,\n",
       "                                                    min_impurity_split=None,\n",
       "                                                    min_samples_leaf=1,\n",
       "                                                    min_samples_split=2,\n",
       "                                                    min_weight_fraction_leaf=0.0,\n",
       "                                                    n_estimators='warn',\n",
       "                                                    n_jobs=None,\n",
       "                                                    oob_sc...\n",
       "       427, 428, 429, 430, 431, 432, 433, 434, 435, 436, 437, 438, 439,\n",
       "       440, 441, 442, 443, 444, 445, 446, 447, 448, 449, 450, 451, 452,\n",
       "       453, 454, 455, 456, 457, 458, 459, 460, 461, 462, 463, 464, 465,\n",
       "       466, 467, 468, 469, 470, 471, 472, 473, 474, 475, 476, 477, 478,\n",
       "       479, 480, 481, 482, 483, 484, 485, 486, 487, 488, 489, 490, 491,\n",
       "       492, 493, 494, 495, 496, 497, 498, 499])},\n",
       "                   pre_dispatch='2*n_jobs', random_state=101, refit=True,\n",
       "                   return_train_score=False, scoring=None, verbose=0)"
      ]
     },
     "execution_count": 26,
     "metadata": {},
     "output_type": "execute_result"
    }
   ],
   "source": [
    "rf_2 = RandomForestClassifier(random_state=101)\n",
    "distributions = {\"n_estimators\": np.arange(50, 500, 1)}\n",
    "\n",
    "rf_sg_2 = RandomizedSearchCV(rf_2, distributions, random_state=101, n_jobs=-1, n_iter=100, cv=5, iid=False)\n",
    "rf_sg_2.fit(X_train_2, y_train_2)"
   ]
  },
  {
   "cell_type": "code",
   "execution_count": 27,
   "metadata": {
    "ExecuteTime": {
     "end_time": "2020-05-29T20:06:11.231695Z",
     "start_time": "2020-05-29T20:06:11.227437Z"
    }
   },
   "outputs": [
    {
     "data": {
      "text/plain": [
       "0.9817805383022774"
      ]
     },
     "execution_count": 27,
     "metadata": {},
     "output_type": "execute_result"
    }
   ],
   "source": [
    "rf_sg_2.best_score_"
   ]
  },
  {
   "cell_type": "code",
   "execution_count": 28,
   "metadata": {
    "ExecuteTime": {
     "end_time": "2020-05-29T20:06:11.237455Z",
     "start_time": "2020-05-29T20:06:11.233571Z"
    }
   },
   "outputs": [
    {
     "data": {
      "text/plain": [
       "{'n_estimators': 69}"
      ]
     },
     "execution_count": 28,
     "metadata": {},
     "output_type": "execute_result"
    }
   ],
   "source": [
    "rf_sg_2.best_params_"
   ]
  },
  {
   "cell_type": "code",
   "execution_count": 29,
   "metadata": {
    "ExecuteTime": {
     "end_time": "2020-05-29T20:06:11.328878Z",
     "start_time": "2020-05-29T20:06:11.239613Z"
    }
   },
   "outputs": [
    {
     "data": {
      "text/plain": [
       "['../models/random_forest_wax_B']"
      ]
     },
     "execution_count": 29,
     "metadata": {},
     "output_type": "execute_result"
    }
   ],
   "source": [
    "joblib.dump(rf_sg_2.best_estimator_, \"../models/random_forest_wax_B\")"
   ]
  },
  {
   "cell_type": "code",
   "execution_count": 30,
   "metadata": {
    "ExecuteTime": {
     "end_time": "2020-05-29T20:06:11.336273Z",
     "start_time": "2020-05-29T20:06:11.332724Z"
    }
   },
   "outputs": [],
   "source": [
    "# XGBClassifier"
   ]
  },
  {
   "cell_type": "code",
   "execution_count": 31,
   "metadata": {
    "ExecuteTime": {
     "end_time": "2020-05-29T20:06:11.344711Z",
     "start_time": "2020-05-29T20:06:11.341562Z"
    }
   },
   "outputs": [],
   "source": [
    "# Wax data A"
   ]
  },
  {
   "cell_type": "code",
   "execution_count": 32,
   "metadata": {
    "ExecuteTime": {
     "end_time": "2020-05-29T20:07:16.693847Z",
     "start_time": "2020-05-29T20:06:11.347556Z"
    }
   },
   "outputs": [
    {
     "data": {
      "text/plain": [
       "RandomizedSearchCV(cv=5, error_score='raise-deprecating',\n",
       "                   estimator=XGBClassifier(base_score=0.5, booster='gbtree',\n",
       "                                           colsample_bylevel=1,\n",
       "                                           colsample_bynode=1,\n",
       "                                           colsample_bytree=1, gamma=0,\n",
       "                                           learning_rate=0.1, max_delta_step=0,\n",
       "                                           max_depth=3, min_child_weight=1,\n",
       "                                           missing=None, n_estimators=100,\n",
       "                                           n_jobs=1, nthread=None,\n",
       "                                           objective='binary:logistic',\n",
       "                                           random_state=101, reg_alpha=1,\n",
       "                                           reg_lambda=0, scale_pos_weight=1,\n",
       "                                           seed=None, silent=None, subsample=1,\n",
       "                                           verbosity=1),\n",
       "                   iid=False, n_iter=100, n_jobs=-1,\n",
       "                   param_distributions={'n_estimators': array([83]),\n",
       "                                        'reg_alpha': <scipy.stats._distn_infrastructure.rv_frozen object at 0x7f833c3c1d90>},\n",
       "                   pre_dispatch='2*n_jobs', random_state=101, refit=True,\n",
       "                   return_train_score=False, scoring=None, verbose=0)"
      ]
     },
     "execution_count": 32,
     "metadata": {},
     "output_type": "execute_result"
    }
   ],
   "source": [
    "xgb = XGBClassifier(random_state=101, reg_lambda=0, reg_alpha=1)\n",
    "distributions = {\"reg_alpha\": uniform(loc=0, scale=10), \"n_estimators\": np.random.randint(50, 500, 1)}\n",
    "\n",
    "xgb_sg = RandomizedSearchCV(xgb, distributions, random_state=101, n_jobs=-1, n_iter=100, cv=5, iid=False)\n",
    "xgb_sg.fit(X_train, y_train)"
   ]
  },
  {
   "cell_type": "code",
   "execution_count": 33,
   "metadata": {
    "ExecuteTime": {
     "end_time": "2020-05-29T20:07:16.700044Z",
     "start_time": "2020-05-29T20:07:16.695852Z"
    }
   },
   "outputs": [
    {
     "data": {
      "text/plain": [
       "0.9817805383022774"
      ]
     },
     "execution_count": 33,
     "metadata": {},
     "output_type": "execute_result"
    }
   ],
   "source": [
    "xgb_sg.best_score_"
   ]
  },
  {
   "cell_type": "code",
   "execution_count": 34,
   "metadata": {
    "ExecuteTime": {
     "end_time": "2020-05-29T20:07:16.705950Z",
     "start_time": "2020-05-29T20:07:16.701962Z"
    }
   },
   "outputs": [
    {
     "data": {
      "text/plain": [
       "{'n_estimators': 83, 'reg_alpha': 5.163986277024462}"
      ]
     },
     "execution_count": 34,
     "metadata": {},
     "output_type": "execute_result"
    }
   ],
   "source": [
    "xgb_sg.best_params_"
   ]
  },
  {
   "cell_type": "code",
   "execution_count": 35,
   "metadata": {
    "ExecuteTime": {
     "end_time": "2020-05-29T20:07:16.728081Z",
     "start_time": "2020-05-29T20:07:16.707931Z"
    }
   },
   "outputs": [
    {
     "data": {
      "text/plain": [
       "['../models/XGBoost_wax_A']"
      ]
     },
     "execution_count": 35,
     "metadata": {},
     "output_type": "execute_result"
    }
   ],
   "source": [
    "joblib.dump(xgb_sg.best_estimator_, \"../models/XGBoost_wax_A\")"
   ]
  },
  {
   "cell_type": "code",
   "execution_count": 36,
   "metadata": {
    "ExecuteTime": {
     "end_time": "2020-05-29T20:07:16.742785Z",
     "start_time": "2020-05-29T20:07:16.731174Z"
    }
   },
   "outputs": [],
   "source": [
    "# Wax data B"
   ]
  },
  {
   "cell_type": "code",
   "execution_count": 37,
   "metadata": {
    "ExecuteTime": {
     "end_time": "2020-05-29T20:10:33.310480Z",
     "start_time": "2020-05-29T20:07:16.745046Z"
    }
   },
   "outputs": [
    {
     "data": {
      "text/plain": [
       "RandomizedSearchCV(cv=5, error_score='raise-deprecating',\n",
       "                   estimator=XGBClassifier(base_score=0.5, booster='gbtree',\n",
       "                                           colsample_bylevel=1,\n",
       "                                           colsample_bynode=1,\n",
       "                                           colsample_bytree=1, gamma=0,\n",
       "                                           learning_rate=0.1, max_delta_step=0,\n",
       "                                           max_depth=3, min_child_weight=1,\n",
       "                                           missing=None, n_estimators=100,\n",
       "                                           n_jobs=1, nthread=None,\n",
       "                                           objective='binary:logistic',\n",
       "                                           random_state=101, reg_alpha=1,\n",
       "                                           reg_lambda=0, scale_pos_weight=1,\n",
       "                                           seed=None, silent=None, subsample=1,\n",
       "                                           verbosity=1),\n",
       "                   iid=False, n_iter=100, n_jobs=-1,\n",
       "                   param_distributions={'n_estimators': array([417]),\n",
       "                                        'reg_alpha': <scipy.stats._distn_infrastructure.rv_frozen object at 0x7f833c491cd0>},\n",
       "                   pre_dispatch='2*n_jobs', random_state=101, refit=True,\n",
       "                   return_train_score=False, scoring=None, verbose=0)"
      ]
     },
     "execution_count": 37,
     "metadata": {},
     "output_type": "execute_result"
    }
   ],
   "source": [
    "xgb_2 = XGBClassifier(random_state=101, reg_lambda=0, reg_alpha=1)\n",
    "distributions = {\"reg_alpha\": uniform(loc=0, scale=10), \"n_estimators\": np.random.randint(50, 500, 1)}\n",
    "\n",
    "xgb_sg_2 = RandomizedSearchCV(xgb_2, distributions, random_state=101, n_jobs=-1, n_iter=100, cv=5, iid=False)\n",
    "xgb_sg_2.fit(X_train_2, y_train_2)"
   ]
  },
  {
   "cell_type": "code",
   "execution_count": 38,
   "metadata": {
    "ExecuteTime": {
     "end_time": "2020-05-29T20:10:33.316733Z",
     "start_time": "2020-05-29T20:10:33.312347Z"
    }
   },
   "outputs": [
    {
     "data": {
      "text/plain": [
       "0.9639939770374554"
      ]
     },
     "execution_count": 38,
     "metadata": {},
     "output_type": "execute_result"
    }
   ],
   "source": [
    "xgb_sg_2.best_score_"
   ]
  },
  {
   "cell_type": "code",
   "execution_count": 39,
   "metadata": {
    "ExecuteTime": {
     "end_time": "2020-05-29T20:10:33.322765Z",
     "start_time": "2020-05-29T20:10:33.318450Z"
    }
   },
   "outputs": [
    {
     "data": {
      "text/plain": [
       "{'n_estimators': 417, 'reg_alpha': 6.852769816973126}"
      ]
     },
     "execution_count": 39,
     "metadata": {},
     "output_type": "execute_result"
    }
   ],
   "source": [
    "xgb_sg_2.best_params_"
   ]
  },
  {
   "cell_type": "code",
   "execution_count": 40,
   "metadata": {
    "ExecuteTime": {
     "end_time": "2020-05-29T20:10:33.346200Z",
     "start_time": "2020-05-29T20:10:33.324487Z"
    }
   },
   "outputs": [
    {
     "data": {
      "text/plain": [
       "['../models/XGBoost_wax_B']"
      ]
     },
     "execution_count": 40,
     "metadata": {},
     "output_type": "execute_result"
    }
   ],
   "source": [
    "joblib.dump(xgb_sg_2.best_estimator_, \"../models/XGBoost_wax_B\")"
   ]
  },
  {
   "cell_type": "code",
   "execution_count": 41,
   "metadata": {
    "ExecuteTime": {
     "end_time": "2020-05-29T20:10:33.361882Z",
     "start_time": "2020-05-29T20:10:33.353450Z"
    }
   },
   "outputs": [],
   "source": [
    "# Models metrics"
   ]
  },
  {
   "cell_type": "code",
   "execution_count": 42,
   "metadata": {
    "ExecuteTime": {
     "end_time": "2020-05-29T20:10:33.442186Z",
     "start_time": "2020-05-29T20:10:33.364259Z"
    }
   },
   "outputs": [],
   "source": [
    "# Prediction for data set A\n",
    "lr_predicted = lr_sg.best_estimator_.predict(X_test)\n",
    "rf_predicted = rf_sg.best_estimator_.predict(X_test)\n",
    "xgb_predicted = xgb_sg.best_estimator_.predict(X_test)"
   ]
  },
  {
   "cell_type": "code",
   "execution_count": 43,
   "metadata": {
    "ExecuteTime": {
     "end_time": "2020-05-29T20:10:33.549316Z",
     "start_time": "2020-05-29T20:10:33.444615Z"
    }
   },
   "outputs": [],
   "source": [
    "# Prediction for data set B\n",
    "lr_2_predicted = lr_sg_2.best_estimator_.predict(X_test_2)\n",
    "rf_2_predicted = rf_sg_2.best_estimator_.predict(X_test_2)\n",
    "xgb_2_predicted = xgb_sg_2.best_estimator_.predict(X_test_2)"
   ]
  },
  {
   "cell_type": "code",
   "execution_count": 44,
   "metadata": {
    "ExecuteTime": {
     "end_time": "2020-05-29T20:10:33.572372Z",
     "start_time": "2020-05-29T20:10:33.552191Z"
    }
   },
   "outputs": [
    {
     "name": "stdout",
     "output_type": "stream",
     "text": [
      "              precision    recall  f1-score   support\n",
      "\n",
      "           0       0.94      0.94      0.94        16\n",
      "           1       0.98      0.98      0.98        58\n",
      "\n",
      "    accuracy                           0.97        74\n",
      "   macro avg       0.96      0.96      0.96        74\n",
      "weighted avg       0.97      0.97      0.97        74\n",
      "\n"
     ]
    }
   ],
   "source": [
    "# Logistic regression report\n",
    "# Data set A\n",
    "print(classification_report(y_test, lr_predicted))"
   ]
  },
  {
   "cell_type": "code",
   "execution_count": 45,
   "metadata": {
    "ExecuteTime": {
     "end_time": "2020-05-29T20:10:33.591635Z",
     "start_time": "2020-05-29T20:10:33.577779Z"
    }
   },
   "outputs": [
    {
     "name": "stdout",
     "output_type": "stream",
     "text": [
      "              precision    recall  f1-score   support\n",
      "\n",
      "           0       0.94      0.94      0.94        16\n",
      "           1       0.98      0.98      0.98        58\n",
      "\n",
      "    accuracy                           0.97        74\n",
      "   macro avg       0.96      0.96      0.96        74\n",
      "weighted avg       0.97      0.97      0.97        74\n",
      "\n"
     ]
    }
   ],
   "source": [
    "# Data set B\n",
    "print(classification_report(y_test_2, lr_2_predicted))"
   ]
  },
  {
   "cell_type": "code",
   "execution_count": 46,
   "metadata": {
    "ExecuteTime": {
     "end_time": "2020-05-29T20:10:33.607736Z",
     "start_time": "2020-05-29T20:10:33.595796Z"
    }
   },
   "outputs": [
    {
     "name": "stdout",
     "output_type": "stream",
     "text": [
      "              precision    recall  f1-score   support\n",
      "\n",
      "           0       0.93      0.88      0.90        16\n",
      "           1       0.97      0.98      0.97        58\n",
      "\n",
      "    accuracy                           0.96        74\n",
      "   macro avg       0.95      0.93      0.94        74\n",
      "weighted avg       0.96      0.96      0.96        74\n",
      "\n"
     ]
    }
   ],
   "source": [
    "# Random forest report\n",
    "# Data set A\n",
    "print(classification_report(y_test, rf_predicted))"
   ]
  },
  {
   "cell_type": "code",
   "execution_count": 47,
   "metadata": {
    "ExecuteTime": {
     "end_time": "2020-05-29T20:10:33.617745Z",
     "start_time": "2020-05-29T20:10:33.609487Z"
    }
   },
   "outputs": [
    {
     "name": "stdout",
     "output_type": "stream",
     "text": [
      "              precision    recall  f1-score   support\n",
      "\n",
      "           0       0.94      0.94      0.94        16\n",
      "           1       0.98      0.98      0.98        58\n",
      "\n",
      "    accuracy                           0.97        74\n",
      "   macro avg       0.96      0.96      0.96        74\n",
      "weighted avg       0.97      0.97      0.97        74\n",
      "\n"
     ]
    }
   ],
   "source": [
    "# Data set B\n",
    "print(classification_report(y_test_2, rf_2_predicted))"
   ]
  },
  {
   "cell_type": "code",
   "execution_count": 48,
   "metadata": {
    "ExecuteTime": {
     "end_time": "2020-05-29T20:10:33.634132Z",
     "start_time": "2020-05-29T20:10:33.620042Z"
    }
   },
   "outputs": [
    {
     "name": "stdout",
     "output_type": "stream",
     "text": [
      "              precision    recall  f1-score   support\n",
      "\n",
      "           0       0.88      0.94      0.91        16\n",
      "           1       0.98      0.97      0.97        58\n",
      "\n",
      "    accuracy                           0.96        74\n",
      "   macro avg       0.93      0.95      0.94        74\n",
      "weighted avg       0.96      0.96      0.96        74\n",
      "\n"
     ]
    }
   ],
   "source": [
    "# XGBClassifier report\n",
    "# Data set A\n",
    "print(classification_report(y_test, xgb_predicted))"
   ]
  },
  {
   "cell_type": "code",
   "execution_count": 49,
   "metadata": {
    "ExecuteTime": {
     "end_time": "2020-05-29T20:10:33.646660Z",
     "start_time": "2020-05-29T20:10:33.636687Z"
    }
   },
   "outputs": [
    {
     "name": "stdout",
     "output_type": "stream",
     "text": [
      "              precision    recall  f1-score   support\n",
      "\n",
      "           0       0.93      0.88      0.90        16\n",
      "           1       0.97      0.98      0.97        58\n",
      "\n",
      "    accuracy                           0.96        74\n",
      "   macro avg       0.95      0.93      0.94        74\n",
      "weighted avg       0.96      0.96      0.96        74\n",
      "\n"
     ]
    }
   ],
   "source": [
    "# Data set B\n",
    "print(classification_report(y_test_2, xgb_2_predicted))"
   ]
  }
 ],
 "metadata": {
  "kernelspec": {
   "display_name": "Python 3",
   "language": "python",
   "name": "python3"
  },
  "language_info": {
   "codemirror_mode": {
    "name": "ipython",
    "version": 3
   },
   "file_extension": ".py",
   "mimetype": "text/x-python",
   "name": "python",
   "nbconvert_exporter": "python",
   "pygments_lexer": "ipython3",
   "version": "3.7.6"
  },
  "toc": {
   "base_numbering": 1,
   "nav_menu": {},
   "number_sections": true,
   "sideBar": true,
   "skip_h1_title": false,
   "title_cell": "Table of Contents",
   "title_sidebar": "Contents",
   "toc_cell": false,
   "toc_position": {},
   "toc_section_display": true,
   "toc_window_display": false
  },
  "varInspector": {
   "cols": {
    "lenName": 16,
    "lenType": 16,
    "lenVar": 40
   },
   "kernels_config": {
    "python": {
     "delete_cmd_postfix": "",
     "delete_cmd_prefix": "del ",
     "library": "var_list.py",
     "varRefreshCmd": "print(var_dic_list())"
    },
    "r": {
     "delete_cmd_postfix": ") ",
     "delete_cmd_prefix": "rm(",
     "library": "var_list.r",
     "varRefreshCmd": "cat(var_dic_list()) "
    }
   },
   "types_to_exclude": [
    "module",
    "function",
    "builtin_function_or_method",
    "instance",
    "_Feature"
   ],
   "window_display": false
  }
 },
 "nbformat": 4,
 "nbformat_minor": 2
}
